{
 "cells": [
  {
   "cell_type": "markdown",
   "id": "bcf70412-db5f-4089-85f2-5bf5129ad1fc",
   "metadata": {},
   "source": [
    "# Fixed Point Method"
   ]
  },
  {
   "cell_type": "code",
   "execution_count": 1,
   "id": "b3eece61-d9a2-4497-b52a-3ef13f7002f9",
   "metadata": {
    "tags": []
   },
   "outputs": [],
   "source": [
    "def FixedPointMethod(p_0, funct, TOL = 1e-6, MAX_ITER = 500):\n",
    "    \"\"\"Solve for a function's root via Fixed-Point Method.\n",
    "\n",
    "    Args\n",
    "    ----\n",
    "        p_0: Initial value of approximation\n",
    "        funct (function): Function of interest for a fixed point, g(x)\n",
    "        TOL: Solution tolerance\n",
    "        MAX_ITER: Maximum number of iterations\n",
    "    \n",
    "    Return\n",
    "    -------\n",
    "        p: Root of p = g(p) given p_0\n",
    "    \"\"\"\n",
    "    ## STEP 1:\n",
    "    p_prev = 0.0    # Keep track of old p-values\n",
    "    soln = 0.0      # Store final solution in this variable\n",
    "\n",
    "    ## STEP 2:\n",
    "    for iters in range(MAX_ITER):   # Iterate until max. iterations are reached.\n",
    "        ## STEP 3:\n",
    "        p = funct(p_0)             \n",
    "\n",
    "        ## STEP 4:\n",
    "        # Check if tolerance is satisfied\n",
    "        if np.abs(p - p_0) < TOL:\n",
    "            # Break if tolerance is met, return answer!\n",
    "            print('Found solution after', iters+1, 'iterations.')\n",
    "            soln = p\n",
    "            break\n",
    "        \n",
    "        ## STEP 5\n",
    "        p_0 = p\n",
    "\n",
    "        p_prev = p      # Replace old with new\n",
    "    \n",
    "    return p"
   ]
  }
 ],
 "metadata": {
  "kernelspec": {
   "display_name": "Python 3 (ipykernel)",
   "language": "python",
   "name": "python3"
  },
  "language_info": {
   "codemirror_mode": {
    "name": "ipython",
    "version": 3
   },
   "file_extension": ".py",
   "mimetype": "text/x-python",
   "name": "python",
   "nbconvert_exporter": "python",
   "pygments_lexer": "ipython3",
   "version": "3.9.7"
  }
 },
 "nbformat": 4,
 "nbformat_minor": 5
}
