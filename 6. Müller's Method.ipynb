{
 "cells": [
  {
   "cell_type": "code",
   "execution_count": 2,
   "id": "12b3e074",
   "metadata": {},
   "outputs": [],
   "source": [
    "import numpy as np"
   ]
  },
  {
   "cell_type": "markdown",
   "id": "40f3330a",
   "metadata": {},
   "source": [
    "## Müller's Method"
   ]
  },
  {
   "cell_type": "code",
   "execution_count": 3,
   "id": "841749d9-19b5-4568-ad8b-dc5c9e4cef9b",
   "metadata": {
    "tags": []
   },
   "outputs": [],
   "source": [
    "import cmath\n",
    "def MullersMethod(p_0, p_1, p_2, funct, TOL = 1e-6, MAX_ITER = 500):\n",
    "    \"\"\"Solve for a function's root f(x) = 0 via the Muller's Method.\n",
    "\n",
    "    Args\n",
    "    ----\n",
    "        p_0, p_1, p_2: Initial value of approximations\n",
    "        funct (function): Function of interest, f(x)\n",
    "        TOL: Solution tolerance\n",
    "        MAX_ITER: Maximum number of iterations\n",
    "    \n",
    "    Return\n",
    "    -------\n",
    "        p: Root of f(x)=0 given p_0, p_1 and p_2\n",
    "    \"\"\"\n",
    "    ## STEP 1:\n",
    "    soln = 0.0      # Store final solution in this variable\n",
    "    h_1 = p_1 - p_0\n",
    "    h_2 = p_2 - p_1\n",
    "    delta_1 = (funct(p_1) - funct(p_0))/h_1\n",
    "    delta_2 = (funct(p_2) - funct(p_1))/h_2\n",
    "    d = (delta_2 - delta_1)/(h_2 + h_1)\n",
    "\n",
    "    ## STEP 2:\n",
    "    for iters in range(2, MAX_ITER):   # Iterate until max. iterations are reached.\n",
    "        ## STEP 3:\n",
    "        b = delta_2 + h_2*d\n",
    "        delta = (b**2 - 4*funct(p_2)*d)\n",
    "\n",
    "        D = cmath.sqrt(delta)\n",
    "        \n",
    "        ## STEP 4:\n",
    "        if  np.abs(b-D) < np.abs(b+D) :\n",
    "            E = b + D\n",
    "        else:\n",
    "            E = b - D\n",
    "            \n",
    "        ## STEP 5:\n",
    "        h = -2*funct(p_2)/E\n",
    "        p = p_2 + h\n",
    "\n",
    "        ## STEP 6:\n",
    "        # Check if tolerance is satisfied\n",
    "        if np.abs(h) < TOL:\n",
    "            # Break if tolerance is met, return answer!\n",
    "            print('Found solution after', iters+1, 'iterations.')\n",
    "            soln = p\n",
    "            break\n",
    "        \n",
    "        ## STEP 7\n",
    "        p_0 = p_1\n",
    "        p_1 = p_2\n",
    "        p_2 = p\n",
    "        h_1 = p_1 - p_0\n",
    "        h_2 = p_2 - p_1\n",
    "        delta_1 = (funct(p_1) - funct(p_0))/h_1\n",
    "        delta_2 = (funct(p_2) - funct(p_1))/h_2\n",
    "        d = (delta_2 - delta_1)/(h_2 + h_1)\n",
    "    \n",
    "    return p"
   ]
  },
  {
   "cell_type": "markdown",
   "id": "8b09ef64",
   "metadata": {},
   "source": [
    "16. Use each of the following methods to find a solution in $[0.1,1]$ accurate to within $10^{−4}$ for\n",
    "\n",
    "$$600x^4 −550x^3 +200x^2 −20x−1=0.$$\n",
    "\n",
    "(a) Bisection method  \n",
    "(b) Newton’s method  \n",
    "(c) Secant method  \n",
    "(d) method of False Position  \n",
    "(e) Müller’s method."
   ]
  },
  {
   "cell_type": "code",
   "execution_count": 4,
   "id": "baff20b2-47be-4a30-b63e-cceee133f2d2",
   "metadata": {
    "tags": []
   },
   "outputs": [
    {
     "name": "stdout",
     "output_type": "stream",
     "text": [
      "Found solution after 6 iterations.\n",
      "(0.23235296475310027+0j)\n"
     ]
    }
   ],
   "source": [
    "function_16 = lambda x: 600*x**4 - 550*x**3 + 200*x**2 - 20*x - 1\n",
    "print(MullersMethod(p_0=0.1, p_1=0.2, p_2=0.5, funct=function_16, TOL = 1e-4, MAX_ITER = 200))"
   ]
  },
  {
   "cell_type": "markdown",
   "id": "7f4e4d1f",
   "metadata": {},
   "source": [
    "17. Find approximations to within 10−5 to all the zeros of each of the following polynomials \n",
    "\n",
    "$(a).\\ \\ x^4 +5x^3 −9x^2 −85x−136$\n",
    "\n",
    "$(b).\\ \\ x^5 +11x^4 −21x^3 −10x^2 −21x−5$\n",
    "\n",
    "using Müller’s method and Lagurre’s method."
   ]
  },
  {
   "cell_type": "code",
   "execution_count": 111,
   "id": "d103ca27-c8f1-4036-8c42-792467d38a75",
   "metadata": {
    "scrolled": true
   },
   "outputs": [
    {
     "name": "stdout",
     "output_type": "stream",
     "text": [
      "Found solution after 12 iterations.\n",
      "(-2.4999999999999867+1.3228756555323788j)\n"
     ]
    }
   ],
   "source": [
    "function_17a = lambda x: x**4 + 5*x**3 - 9*x**2 - 85*x - 136\n",
    "print(MullersMethod(p_0=0, p_1=1, p_2=2, funct=function_17a, TOL = 1e-5, MAX_ITER = 200))"
   ]
  },
  {
   "cell_type": "code",
   "execution_count": 112,
   "id": "91484d28-21d0-4d60-8c17-69113fd4518f",
   "metadata": {
    "tags": []
   },
   "outputs": [
    {
     "name": "stdout",
     "output_type": "stream",
     "text": [
      "Found solution after 7 iterations.\n",
      "(4.123105625662525+0j)\n"
     ]
    }
   ],
   "source": [
    "function_17a = lambda x: x**4 + 5*x**3 - 9*x**2 - 85*x - 136\n",
    "print(MullersMethod(p_0=1, p_1=2, p_2=3, funct=function_17a, TOL = 1e-5, MAX_ITER = 200))"
   ]
  },
  {
   "cell_type": "code",
   "execution_count": 113,
   "id": "d6f483ad-5006-4726-864f-b6c574aeac41",
   "metadata": {
    "tags": []
   },
   "outputs": [
    {
     "name": "stdout",
     "output_type": "stream",
     "text": [
      "Found solution after 6 iterations.\n",
      "(-4.123105625702082+0j)\n"
     ]
    }
   ],
   "source": [
    "function_17a = lambda x: x**4 + 5*x**3 - 9*x**2 - 85*x - 136\n",
    "print(MullersMethod(p_0=-3, p_1=-4, p_2=-5, funct=function_17a, TOL = 1e-5, MAX_ITER = 200))"
   ]
  },
  {
   "cell_type": "code",
   "execution_count": 114,
   "id": "f33e3afa-d80b-410f-8f23-efa30a0f8669",
   "metadata": {
    "tags": []
   },
   "outputs": [
    {
     "name": "stdout",
     "output_type": "stream",
     "text": [
      "Found solution after 8 iterations.\n",
      "(2.260085528064257+0j)\n"
     ]
    }
   ],
   "source": [
    "function_17b = lambda x: x**5 + 11*x**4 - 21*x**3 - 10*x**2 - 21*x - 5\n",
    "print(MullersMethod(p_0=0, p_1=1, p_2=2, funct=function_17b, TOL = 1e-5, MAX_ITER = 200))"
   ]
  },
  {
   "cell_type": "code",
   "execution_count": 115,
   "id": "f98b76c8-1601-4802-b011-37a133f15c95",
   "metadata": {
    "tags": []
   },
   "outputs": [
    {
     "name": "stdout",
     "output_type": "stream",
     "text": [
      "Found solution after 15 iterations.\n",
      "(-0.19870953137437178-0.8133125468041899j)\n"
     ]
    }
   ],
   "source": [
    "function_17b = lambda x: x**5 + 11*x**4 - 21*x**3 - 10*x**2 - 21*x - 5\n",
    "print(MullersMethod(p_0=3, p_1=4, p_2=5, funct=function_17b, TOL = 1e-5, MAX_ITER = 200))"
   ]
  },
  {
   "cell_type": "code",
   "execution_count": 116,
   "id": "d3ab8e69-d3a7-4c0e-b15e-207f9c64e123",
   "metadata": {
    "tags": []
   },
   "outputs": [
    {
     "name": "stdout",
     "output_type": "stream",
     "text": [
      "Found solution after 23 iterations.\n",
      "(-0.2502369403251273+4.843827793227768e-16j)\n"
     ]
    }
   ],
   "source": [
    "function_17b = lambda x: x**5 + 11*x**4 - 21*x**3 - 10*x**2 - 21*x - 5\n",
    "print(MullersMethod(p_0=11, p_1=12, p_2=13, funct=function_17b, TOL = 1e-6, MAX_ITER = 200))"
   ]
  },
  {
   "cell_type": "code",
   "execution_count": 117,
   "id": "7c59398e-9179-4bf5-bae6-dd224c2a96c6",
   "metadata": {},
   "outputs": [
    {
     "name": "stdout",
     "output_type": "stream",
     "text": [
      "Found solution after 7 iterations.\n",
      "(-12.612429524958177+0j)\n"
     ]
    }
   ],
   "source": [
    "function_17b = lambda x: x**5 + 11*x**4 - 21*x**3 - 10*x**2 - 21*x - 5\n",
    "print(MullersMethod(p_0=-9, p_1=-10, p_2=-11, funct=function_17b, TOL = 1e-5, MAX_ITER = 200))"
   ]
  },
  {
   "cell_type": "code",
   "execution_count": null,
   "id": "cd370599",
   "metadata": {},
   "outputs": [],
   "source": []
  }
 ],
 "metadata": {
  "kernelspec": {
   "display_name": "Python 3 (ipykernel)",
   "language": "python",
   "name": "python3"
  },
  "language_info": {
   "codemirror_mode": {
    "name": "ipython",
    "version": 3
   },
   "file_extension": ".py",
   "mimetype": "text/x-python",
   "name": "python",
   "nbconvert_exporter": "python",
   "pygments_lexer": "ipython3",
   "version": "3.9.7"
  }
 },
 "nbformat": 4,
 "nbformat_minor": 5
}
