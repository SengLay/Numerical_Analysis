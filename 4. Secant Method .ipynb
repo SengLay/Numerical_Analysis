{
 "cells": [
  {
   "cell_type": "markdown",
   "id": "1ca1c562-1a18-4e7e-9b0d-b3bd429f3738",
   "metadata": {},
   "source": [
    "# Secant Method"
   ]
  },
  {
   "cell_type": "code",
   "execution_count": 59,
   "id": "c7359104-3f2f-4047-aeb3-fc69a795b2eb",
   "metadata": {
    "tags": []
   },
   "outputs": [],
   "source": [
    "import cmath\n",
    "import numpy as np\n",
    "def SecantMethod(p_0, p_1, funct, TOL = 1e-6, MAX_ITER = 500):\n",
    "    \"\"\"Solve for a function's root f(x) = 0 via the Secant Method.\n",
    "\n",
    "    Args\n",
    "    ----\n",
    "        p_0, p_1: Initial value of approximation\n",
    "        funct (function): Function of interest, f(x)\n",
    "        TOL: Solution tolerance\n",
    "        MAX_ITER: Maximum number of iterations\n",
    "    \n",
    "    Return\n",
    "    -------\n",
    "        p: Root of f(x)=0 given p_0, p_1\n",
    "    \"\"\"\n",
    "    ## STEP 1:\n",
    "    soln = 0.0      # Store final solution in this variable\n",
    "    q_0 = funct(p_0)\n",
    "    q_1 = funct(p_1)\n",
    "\n",
    "    ## STEP 2:\n",
    "    for iters in range(1, MAX_ITER):   # Iterate until max. iterations are reached.\n",
    "        ## STEP 3:\n",
    "        p = p_1 - q_1*(p_1 - p_0)/(q_1 - q_0)         \n",
    "\n",
    "        ## STEP 4:\n",
    "        # Check if tolerance is satisfied\n",
    "        if np.abs(p - p_1) < TOL:\n",
    "            # Break if tolerance is met, return answer!\n",
    "            print('Found solution after', iters+1, 'iterations.')\n",
    "            soln = p\n",
    "            break\n",
    "        \n",
    "        ## STEP 5\n",
    "        p_0 = p_1\n",
    "        q_0 = q_1\n",
    "        p_1 = p\n",
    "        q_1 = funct(p)\n",
    "        \n",
    "        print(f\"Solution: {p}, Iter: {iters}\")\n",
    "        \n",
    "    return p"
   ]
  },
  {
   "cell_type": "code",
   "execution_count": 60,
   "id": "f2fb0933-a818-4bf4-8a39-6dff571b4900",
   "metadata": {
    "scrolled": true,
    "tags": []
   },
   "outputs": [
    {
     "name": "stdout",
     "output_type": "stream",
     "text": [
      "Solution: 2.4, Iter: 1\n",
      "Solution: 2.4545454545454546, Iter: 2\n"
     ]
    },
    {
     "data": {
      "text/plain": [
       "2.4545454545454546"
      ]
     },
     "execution_count": 60,
     "metadata": {},
     "output_type": "execute_result"
    }
   ],
   "source": [
    "function_11 = lambda x: x**2 - 6\n",
    "SecantMethod(p_0=3, p_1=2, funct=function_11, TOL = 1e-6, MAX_ITER = 3)"
   ]
  },
  {
   "cell_type": "code",
   "execution_count": 61,
   "id": "7b0fee73",
   "metadata": {},
   "outputs": [],
   "source": [
    "def func_12(x):\n",
    "    return np.cos(x) - x"
   ]
  },
  {
   "cell_type": "code",
   "execution_count": 62,
   "id": "be8a646a",
   "metadata": {},
   "outputs": [
    {
     "name": "stdout",
     "output_type": "stream",
     "text": [
      "Solution: 0.7363841388365822, Iter: 1\n",
      "Solution: 0.7390581392138897, Iter: 2\n",
      "Solution: 0.7390851493372764, Iter: 3\n",
      "Found solution after 5 iterations.\n"
     ]
    },
    {
     "data": {
      "text/plain": [
       "0.7390851332150645"
      ]
     },
     "execution_count": 62,
     "metadata": {},
     "output_type": "execute_result"
    }
   ],
   "source": [
    "SecantMethod(p_0=0.5, p_1=np.pi/4, funct=func_12, TOL = 1e-6, MAX_ITER = 10)"
   ]
  },
  {
   "cell_type": "code",
   "execution_count": null,
   "id": "86138eb7",
   "metadata": {},
   "outputs": [],
   "source": []
  }
 ],
 "metadata": {
  "kernelspec": {
   "display_name": "Python 3 (ipykernel)",
   "language": "python",
   "name": "python3"
  },
  "language_info": {
   "codemirror_mode": {
    "name": "ipython",
    "version": 3
   },
   "file_extension": ".py",
   "mimetype": "text/x-python",
   "name": "python",
   "nbconvert_exporter": "python",
   "pygments_lexer": "ipython3",
   "version": "3.9.7"
  }
 },
 "nbformat": 4,
 "nbformat_minor": 5
}
