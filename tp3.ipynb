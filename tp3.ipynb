{
 "cells": [
  {
   "cell_type": "markdown",
   "id": "c61f1c20-5923-4170-b9a0-fecc6d8fb08e",
   "metadata": {},
   "source": [
    "# **TP3:  Numerical Differentiations and Integrations**"
   ]
  },
  {
   "cell_type": "code",
   "execution_count": 1,
   "id": "22fade95-2d4d-4619-aea0-323ad4ce24b3",
   "metadata": {
    "tags": []
   },
   "outputs": [],
   "source": [
    "import numpy as np\n",
    "import pandas as pd\n",
    "import matplotlib.pyplot as plt\n",
    "\n",
    "import math\n",
    "import sympy\n",
    "import scipy\n",
    "from collections.abc import Callable"
   ]
  },
  {
   "cell_type": "markdown",
   "id": "a480607f-c7c2-4d95-ac02-18a9fc6d8fad",
   "metadata": {},
   "source": [
    "## **Exo1:**"
   ]
  },
  {
   "cell_type": "markdown",
   "id": "04c4e31e-b435-4c17-a2a2-5fba975655a9",
   "metadata": {},
   "source": [
    "Use the forward-difference formulas and backward-difference formulas to determine\n",
    "each missing entry in the following tables."
   ]
  },
  {
   "cell_type": "markdown",
   "id": "de325a02-d52f-4cf1-87da-bc0e2ca3a426",
   "metadata": {},
   "source": [
    "### **(a)**"
   ]
  },
  {
   "cell_type": "markdown",
   "id": "3500930b-a382-4e58-aad4-621a3cdd4d56",
   "metadata": {},
   "source": [
    "\\begin{array}{l|l|l}\n",
    "x & f(x) & f^{\\prime}(x) \\\\\n",
    "\\hline 0.5 & 0.4794 & 0.852 \\\\\n",
    "\\hline 0.6 & 0.5646 & 0.852 \\\\\n",
    "\\hline 0.7 & 0.6442 & 0.796 \\\\\n",
    "\\hline\n",
    "\\end{array}\n",
    "We used the forward difference formula to compute $f^{\\prime}(0.5)$ and the backward difference formula to compute $f^{\\prime}(0.6)$ and $f^{\\prime}(0.7)$. If the forward difference formula were used to compute $f^{\\prime}(0)$, the result would be 0.796 ."
   ]
  },
  {
   "cell_type": "markdown",
   "id": "69bef7b9-5e41-4635-bf88-b8adafdd2658",
   "metadata": {},
   "source": [
    "### **(b)**"
   ]
  },
  {
   "cell_type": "markdown",
   "id": "5c762249-93ce-4ac3-a976-233795120051",
   "metadata": {},
   "source": [
    "\\begin{array}{l|l|l}\n",
    "x & f(x) & f^{\\prime}(x) \\\\\n",
    "\\hline 0.0 & 0.00000 & 3.707 \\\\\n",
    "\\hline 0.2 & 0.74140 & 3.152 \\\\\n",
    "\\hline 0.4 & 1.3718 & 3.152 \\\\\n",
    "\\hline\n",
    "\\end{array}\n",
    "Forward difference was used for the first two, and backward difference for the last one. If backward difference were used for the second one, the answer would be 3.707."
   ]
  },
  {
   "cell_type": "markdown",
   "id": "065f64ac-e95d-495a-b879-c4436eed9731",
   "metadata": {},
   "source": [
    "## **Exo2:**"
   ]
  },
  {
   "cell_type": "markdown",
   "id": "a6f527a4-7274-44be-8b5a-864474cd8632",
   "metadata": {},
   "source": [
    "Use the most accurate three-point formula to determine each missing entry in the\n",
    "following tables."
   ]
  },
  {
   "cell_type": "markdown",
   "id": "50069a52-f394-44c2-a1e4-29007ceb7d16",
   "metadata": {},
   "source": [
    "### **(a)**"
   ]
  },
  {
   "cell_type": "markdown",
   "id": "d1869034-edcd-4fee-a779-7209d27738bf",
   "metadata": {},
   "source": [
    "\\begin{array}{l|l|l}\n",
    "x & f(x) & f^{\\prime}(x) \\\\\n",
    "\\hline 1.1 & 9.025013 & 17.769705 \\\\\n",
    "\\hline 1.2 & 11.02318 & 22.193635 \\\\\n",
    "\\hline 1.3 & 13.46374 & 27.107350 \\\\\n",
    "\\hline 1.4 & 16.44465 & 32.150850 \\\\\n",
    "\\hline\n",
    "\\end{array}"
   ]
  },
  {
   "cell_type": "markdown",
   "id": "dad6e421-0f19-43a9-8995-15dba3c52c88",
   "metadata": {},
   "source": [
    "For the endpoints of the tables, we use 3-Point Endpoint Formula. The other approximations come from 3-Point Midpoint formula."
   ]
  },
  {
   "cell_type": "markdown",
   "id": "46e45036-8ead-4cd2-b81c-ca4bbbd4cc0c",
   "metadata": {},
   "source": [
    "### **(b)**"
   ]
  },
  {
   "cell_type": "markdown",
   "id": "d945155b-35e8-4661-a443-45f8d5088da9",
   "metadata": {},
   "source": [
    "\\begin{array}{l|l|l}\n",
    "x & f(x) & f^{\\prime}(x) \\\\\n",
    "\\hline 8.1 & 16.94410 & 3.092050 \\\\\n",
    "\\hline 8.3 & 17.56492 & 3.116150 \\\\\n",
    "\\hline 8.5 & 18.19056 & 3.139975 \\\\\n",
    "\\hline 8.7 & 18.82091 & 3.163525 \\\\\n",
    "\\hline\n",
    "\\end{array}"
   ]
  },
  {
   "cell_type": "markdown",
   "id": "424db414-276f-469f-a3d5-82e34103ee82",
   "metadata": {},
   "source": [
    "## **Exo3:**"
   ]
  },
  {
   "cell_type": "code",
   "execution_count": 24,
   "id": "7f4ed8b0-645a-4e04-8dea-363415920682",
   "metadata": {},
   "outputs": [
    {
     "name": "stdout",
     "output_type": "stream",
     "text": [
      "-1.4360429333333333 -1.0127697 -1.0006965333333335\n",
      "-0.9845514844444444 -0.9998916555555558\n",
      "-1.0001351503350973\n"
     ]
    }
   ],
   "source": [
    "A_0_h = 2.356194\n",
    "A_0_h_2 = -0.4879837\n",
    "A_0_h_4 = -0.8815732\n",
    "A_0_h_8 = -0.9709157\n",
    "\n",
    "A_1_h = A_0_h_2 + (A_0_h_2 - A_0_h)/(2**2 - 1)\n",
    "A_1_h_2 = A_0_h_4 + (A_0_h_4 - A_0_h_2)/(2**2 - 1)\n",
    "A_1_h_4 = A_0_h_8 + (A_0_h_8 - A_0_h_4)/(2**2 - 1)\n",
    "print(A_1_h, A_1_h_2, A_1_h_4)\n",
    "\n",
    "A_2_h = A_1_h_2 + (A_1_h_2 - A_1_h)/(2**4 - 1)\n",
    "A_2_h_2 = A_1_h_4 + (A_1_h_4 - A_1_h_2)/(2**4 - 1)\n",
    "print(A_2_h, A_2_h_2)\n",
    "\n",
    "A_3_h = A_2_h_2 + (A_2_h_2 - A_2_h)/(2**6 - 1)\n",
    "print(A_3_h)"
   ]
  },
  {
   "cell_type": "code",
   "execution_count": 22,
   "id": "f7e7e349-f1d9-4dfb-92e7-ef3620a2c0ab",
   "metadata": {
    "tags": []
   },
   "outputs": [],
   "source": [
    "def Richardson_Extrapolation(f: Callable[[float], float],\n",
    "                             x: float,\n",
    "                             h: float,\n",
    "                             n: int = 9,\n",
    "                             rtol: float = 1e-10\n",
    "                            ) -> tuple[float, pd.DataFrame]:\n",
    "    N = n + 1\n",
    "    D = np.full(shape=(N,N), fill_value=np.nan, dtype=np.float64)\n",
    "    D[0, 0] = 0.5 * (f(x + h) - f(x - h)) / h\n",
    "    for i in range(1, N, 1):\n",
    "        h = 0.5 * h\n",
    "        D[i, 0] = 0.5 * (f(x + h) - f(x - h)) / h\n",
    "        I = i + 1\n",
    "        p = 1\n",
    "        for j in range(1, I, 1):\n",
    "            p = 4*p\n",
    "            D[i, j] = D[i, j-1] + (D[i, j-1] - D[i-1, j-1]) / (p-1)\n",
    "        if abs(D[i,i] - D[i-1, i-1]) < rtol:\n",
    "            break\n",
    "    d = D[i,i]\n",
    "    columns = [f'O(h^{2*(k+1)})' for k in range(0, I, 1)]\n",
    "    D = pd.DataFrame(data=D[:I, :I], columns=columns)\n",
    "    return (d, D)"
   ]
  },
  {
   "cell_type": "code",
   "execution_count": 23,
   "id": "26fab837-8f53-4053-aad4-34578c80bbfd",
   "metadata": {
    "tags": []
   },
   "outputs": [
    {
     "name": "stdout",
     "output_type": "stream",
     "text": [
      "d = 0.5000000000\n",
      "     O(h^2) O(h^4) O(h^6) O(h^8)\n",
      "0  0.500417                     \n",
      "1  0.500104    0.5              \n",
      "2  0.500026    0.5    0.5       \n",
      "3  0.500007    0.5    0.5    0.5\n"
     ]
    }
   ],
   "source": [
    "def f(x): return np.log(1+x)\n",
    "d, D = Richardson_Extrapolation(f=f, x=1, h=0.1)\n",
    "print(f\"d = {d:.10f}\")\n",
    "D.fillna(value='', inplace=True)\n",
    "print(D)"
   ]
  },
  {
   "cell_type": "markdown",
   "id": "ddd8a6a9-22f0-419b-a98f-0d7f6523ff5c",
   "metadata": {},
   "source": [
    "## **Exo4**"
   ]
  },
  {
   "cell_type": "markdown",
   "id": "a33f8815-97bb-48df-8b65-435af7f8c0d0",
   "metadata": {},
   "source": [
    "## **Exo5**"
   ]
  },
  {
   "cell_type": "markdown",
   "id": "57ff9644-b39f-444f-8742-45f8d90536dc",
   "metadata": {},
   "source": [
    "Approximate the following integrals using the Trapezoidal rule, Simpson’s rule and Midpoint rule."
   ]
  },
  {
   "cell_type": "markdown",
   "id": "ae03b3a6-539a-4098-a62b-3abbbf0bef05",
   "metadata": {},
   "source": [
    "### **(a)**"
   ]
  },
  {
   "cell_type": "markdown",
   "id": "327e22ba-0bed-4d48-89a3-d40d1575202b",
   "metadata": {},
   "source": [
    "With $f(x)=x^2 \\ln x$ and $h=(1.5-1)=0.5$ the Trapezoid Rule gives\n",
    "$$\n",
    "\\begin{aligned}\n",
    "\\int_1^{1.5} x^2 \\ln x d x & \\approx \\frac{h}{2}[f(1)+f(1.5)] \\\\\n",
    "& =\\frac{0.5}{2}\\left[1^2 \\ln 1+1.5^2 \\ln 1.5\\right] \\approx 0.228\n",
    "\\end{aligned}\n",
    "$$\n",
    "The absolute error is\n",
    "$$\n",
    "|E|=\\frac{h^3}{12}\\left|f^{\\prime \\prime}(\\xi)\\right|\n",
    "$$\n",
    "for some $\\xi \\in[1,1.5]$. Note that\n",
    "$$\n",
    "\\left|f^{\\prime \\prime}(x)\\right|=3+2 \\ln x\n",
    "$$\n",
    "is increasing $\\forall x>1$ so\n",
    "$$\n",
    "\\left|f^{\\prime \\prime}(\\xi)\\right| \\leq\\left|f^{\\prime \\prime}(1.5)\\right|=3+2 \\ln 1.5 .\n",
    "$$\n",
    "Thus\n",
    "$$\n",
    "|E|=\\frac{0.5^3}{12}\\left|f^{\\prime \\prime}(\\xi)\\right| \\leq \\frac{0.5^3}{12}(3+2 \\ln 1.5) \\approx 0.040 .\n",
    "$$\n",
    "We can conclude:\n",
    "$$\n",
    "\\int_1^{1.5} x^2 \\ln x d x=0.228 \\pm 0.040\n",
    "$$"
   ]
  },
  {
   "cell_type": "code",
   "execution_count": 34,
   "id": "5d13c403-bf2b-4f88-a627-1d21d752b1bc",
   "metadata": {
    "tags": []
   },
   "outputs": [],
   "source": [
    "def TrapezoidalRule(f, a, b):\n",
    "    h = b - a\n",
    "    return (h * 0.5 * (f(a) + f(b)))"
   ]
  },
  {
   "cell_type": "code",
   "execution_count": 37,
   "id": "6f362863-b5bf-4030-93b1-ec0db3d5611b",
   "metadata": {
    "tags": []
   },
   "outputs": [
    {
     "data": {
      "text/plain": [
       "0.22807412331084248"
      ]
     },
     "execution_count": 37,
     "metadata": {},
     "output_type": "execute_result"
    }
   ],
   "source": [
    "f_a = lambda x : x**2 * np.log(x)\n",
    "TrapezoidalRule(f = f_a, a = 1, b = 1.5)"
   ]
  },
  {
   "cell_type": "code",
   "execution_count": 36,
   "id": "b78c7199-2c66-4e07-be2e-22e4eb03349d",
   "metadata": {
    "tags": []
   },
   "outputs": [],
   "source": [
    "def SimpsonRule(f, a, b):\n",
    "    h = (b - a)/2\n",
    "    c = a + h\n",
    "    return (h/3 * (f(a) + 4*f(c) + f(b))) "
   ]
  },
  {
   "cell_type": "code",
   "execution_count": 38,
   "id": "c2cf8c52-db4b-4791-b45f-e2b248ca6204",
   "metadata": {
    "tags": []
   },
   "outputs": [
    {
     "data": {
      "text/plain": [
       "0.19224530741309842"
      ]
     },
     "execution_count": 38,
     "metadata": {},
     "output_type": "execute_result"
    }
   ],
   "source": [
    "SimpsonRule(f = f_a, a = 1, b = 1.5)"
   ]
  },
  {
   "cell_type": "code",
   "execution_count": 39,
   "id": "d00d2ea8-67b9-481b-bbf6-3855a7492d6d",
   "metadata": {
    "tags": []
   },
   "outputs": [],
   "source": [
    "def MidpointRule(f, a, b):\n",
    "    h = (b - a)/2\n",
    "    x_0 = a + h\n",
    "    return 2*h*f(x_0)"
   ]
  },
  {
   "cell_type": "code",
   "execution_count": 40,
   "id": "4b536c4e-607f-4233-8ba0-06224ca94d0b",
   "metadata": {
    "tags": []
   },
   "outputs": [
    {
     "data": {
      "text/plain": [
       "0.1743308994642264"
      ]
     },
     "execution_count": 40,
     "metadata": {},
     "output_type": "execute_result"
    }
   ],
   "source": [
    "MidpointRule(f = f_a, a = 1, b = 1.5)"
   ]
  },
  {
   "cell_type": "markdown",
   "id": "ba400664-fcc0-4048-a5eb-851378c20fb3",
   "metadata": {},
   "source": [
    "### **(b)**"
   ]
  },
  {
   "cell_type": "code",
   "execution_count": 42,
   "id": "5e766bfe-7d36-4a03-b065-c6f88170e400",
   "metadata": {
    "tags": []
   },
   "outputs": [
    {
     "name": "stdout",
     "output_type": "stream",
     "text": [
      "4.143259655194082\n",
      "2.5836964032474845\n",
      "1.8039147772741864\n"
     ]
    }
   ],
   "source": [
    "f_b = lambda x : np.exp(1)**(3*x) * np.sin(2*x)\n",
    "print(TrapezoidalRule(f = f_b, a = 0, b = np.pi/4))\n",
    "print(SimpsonRule(f = f_b, a = 0, b = np.pi/4))\n",
    "print(MidpointRule(f = f_b, a = 0, b = np.pi/4))"
   ]
  },
  {
   "cell_type": "markdown",
   "id": "ac0c0a6d-39fa-4bda-a0cf-bfb9b3c82d88",
   "metadata": {},
   "source": [
    "## **Exo6**"
   ]
  },
  {
   "cell_type": "code",
   "execution_count": null,
   "id": "edd8985c-c7e1-4977-bf58-06fd62e72ac4",
   "metadata": {},
   "outputs": [],
   "source": []
  },
  {
   "cell_type": "code",
   "execution_count": null,
   "id": "3b0e91ac-a335-4882-addf-9bc06ba2cc4f",
   "metadata": {},
   "outputs": [],
   "source": []
  },
  {
   "cell_type": "markdown",
   "id": "c1fa21dd-a65e-4481-8632-ebabe9ae3ecc",
   "metadata": {},
   "source": [
    "## **Exo9**"
   ]
  },
  {
   "cell_type": "code",
   "execution_count": 3,
   "id": "b0e7a93b-971c-4fd3-bbcf-2e7e666b4a82",
   "metadata": {
    "tags": []
   },
   "outputs": [],
   "source": [
    "def CompositeTrapezoidal(f: Callable[[float], float], a:float, b:float, n:int) -> float:\n",
    "    \"\"\"\n",
    "    --------------------\n",
    "    Approximate the integral of 'f(x)' from 'a' to 'b' using Composite Trapezoidal rule/formula\n",
    "    \n",
    "    Parameters\n",
    "    --------------------\n",
    "    'f' : 'callable'\n",
    "        function that we want to integrate\n",
    "    'a' : 'float'\n",
    "        lower limit of the integral\n",
    "    'b' : 'float'\n",
    "        upper limit of the integral\n",
    "    'n' : 'int'\n",
    "        (n+1) be the number of nodes\n",
    "        \n",
    "    Return\n",
    "    -------------------\n",
    "    'A' : 'float'\n",
    "        the approximated value of the integral\n",
    "    \"\"\"\n",
    "    h = (b-a) / n\n",
    "    f_0 = f(a) + f(b)\n",
    "    f_i = 0\n",
    "    for i in range(1, n):\n",
    "        x = a + i*h\n",
    "        f_i = f_i + f(x)\n",
    "    A = 0.5 * h * (f_0 + 2*f_i)\n",
    "    return A"
   ]
  },
  {
   "cell_type": "markdown",
   "id": "e1ded654-b780-4303-8eba-c7a12d8243f8",
   "metadata": {},
   "source": [
    "## **Exo10**"
   ]
  },
  {
   "cell_type": "markdown",
   "id": "56f39577-daff-44c0-a85e-703bf1d6d0c6",
   "metadata": {},
   "source": [
    "Use the Composite Trapezoidal rule with the indicated values of n to approximate the\n",
    "following integrals."
   ]
  },
  {
   "cell_type": "markdown",
   "id": "bc2cd094-736d-45d8-9411-0ac49e129641",
   "metadata": {},
   "source": [
    "### **(a)**"
   ]
  },
  {
   "cell_type": "code",
   "execution_count": 69,
   "id": "a2aba018-67e4-40f3-ae9d-ddb852ad7a6a",
   "metadata": {
    "tags": []
   },
   "outputs": [
    {
     "data": {
      "text/plain": [
       "0.639900477687986"
      ]
     },
     "execution_count": 69,
     "metadata": {},
     "output_type": "execute_result"
    }
   ],
   "source": [
    "f_10_a = lambda x: x * np.log(x)\n",
    "CompositeTrapezoidal(f = f_10_a, a = 1, b = 2, n = 4)"
   ]
  },
  {
   "cell_type": "markdown",
   "id": "0128b302-3fab-4a8e-b634-1d172a8d0fd1",
   "metadata": {},
   "source": [
    "### **(b)**"
   ]
  },
  {
   "cell_type": "code",
   "execution_count": 70,
   "id": "2dc89904-40b1-4135-8f2b-8e788351dbe4",
   "metadata": {
    "tags": []
   },
   "outputs": [
    {
     "data": {
      "text/plain": [
       "0.4769768665147184"
      ]
     },
     "execution_count": 70,
     "metadata": {},
     "output_type": "execute_result"
    }
   ],
   "source": [
    "f_10_b = lambda x: x / (x**2 + 4)\n",
    "CompositeTrapezoidal(f = f_10_b, a = 1, b = 3, n = 8)"
   ]
  },
  {
   "cell_type": "markdown",
   "id": "dbf02b20-fbbb-4036-87bb-ae5ab5048763",
   "metadata": {},
   "source": [
    "## **Exo11**"
   ]
  },
  {
   "cell_type": "code",
   "execution_count": 4,
   "id": "69f88585-a2fd-4ce6-95aa-b7c7e20b6457",
   "metadata": {
    "tags": []
   },
   "outputs": [],
   "source": [
    "def CompositeSimpson(f: Callable[[float], float], a:float, b:float, n:int) -> float:\n",
    "    \"\"\"\n",
    "    --------------------\n",
    "    Approximate the integral of 'f(x)' from 'a' to 'b' using Composite Simpson rule/formula\n",
    "    \n",
    "    Parameters\n",
    "    --------------------\n",
    "    'f' : 'callable'\n",
    "        function that we want to integrate\n",
    "    'a' : 'float'\n",
    "        lower limit of the integral\n",
    "    'b' : 'float'\n",
    "        upper limit of the integral\n",
    "    'n' : 'int'\n",
    "        (n+1) be the number of nodes\n",
    "        \n",
    "    Return\n",
    "    -------------------\n",
    "    'A' : 'float'\n",
    "        the approximated value of the integral\n",
    "    \"\"\"\n",
    "    h = (b-a) / n\n",
    "    f_0 = f(a) + f(b)\n",
    "    f_1 = 0\n",
    "    f_2 = 0\n",
    "    for i in range(1, n):\n",
    "        x = a + i*h\n",
    "        if (i % 2 == 0):\n",
    "            f_2 = f_2 + f(x)\n",
    "        else:\n",
    "            f_1 = f_1 + f(x)\n",
    "    A = h * (f_0 + 2*f_2 + 4*f_1) / 3\n",
    "    return A"
   ]
  },
  {
   "cell_type": "markdown",
   "id": "603c5611-ace1-4af2-ad03-23762da0655a",
   "metadata": {},
   "source": [
    "## **Exo12**"
   ]
  },
  {
   "cell_type": "markdown",
   "id": "868c983d-a2be-45d3-93ae-dfe1a9a50f9f",
   "metadata": {},
   "source": [
    "Use the Composite Simpson’s rule with the indicated values of n to approximate the\n",
    "following integrals."
   ]
  },
  {
   "cell_type": "markdown",
   "id": "9faabaa3-07d7-4491-816b-77370825adbf",
   "metadata": {},
   "source": [
    "### **(a)**"
   ]
  },
  {
   "cell_type": "code",
   "execution_count": 72,
   "id": "406e0b10-125a-45c8-a171-41f22778b5bc",
   "metadata": {
    "tags": []
   },
   "outputs": [
    {
     "data": {
      "text/plain": [
       "22.477125358234236"
      ]
     },
     "execution_count": 72,
     "metadata": {},
     "output_type": "execute_result"
    }
   ],
   "source": [
    "f_12_a = lambda x: x**3 * np.exp(x)\n",
    "CompositeSimpson(f = f_12_a, a = -2, b = 2, n = 4)"
   ]
  },
  {
   "cell_type": "markdown",
   "id": "3839d41a-4d89-410f-bccc-23adece081ec",
   "metadata": {},
   "source": [
    "### **(b)**"
   ]
  },
  {
   "cell_type": "code",
   "execution_count": 67,
   "id": "ebb0482d-b361-4a56-986a-468b71e8fb8a",
   "metadata": {
    "tags": []
   },
   "outputs": [
    {
     "name": "stdout",
     "output_type": "stream",
     "text": [
      "-6.274868388453119\n"
     ]
    }
   ],
   "source": [
    "f_12_b = lambda x: x**2 * np.cos(x)\n",
    "CompositeSimpson(f = f_12_b, a = 1, b = 3, n = 6)\n",
    "print(CompositeSimpson(f = f_12_b, a = 0, b = np.pi, n = 6))"
   ]
  },
  {
   "cell_type": "markdown",
   "id": "2f219829-b620-4f1c-90c3-6217a2d7d480",
   "metadata": {},
   "source": [
    "## **Exo13**"
   ]
  },
  {
   "cell_type": "code",
   "execution_count": 5,
   "id": "fdf1c560-c3c1-4fcc-8836-95e6b020b6ac",
   "metadata": {
    "tags": []
   },
   "outputs": [],
   "source": [
    "def CompositeMidpoint(f: Callable[[float], float], a:float, b:float, n:int) -> float:\n",
    "    \"\"\"\n",
    "    --------------------\n",
    "    Approximate the integral of 'f(x)' from 'a' to 'b' using Composite Midpoint rule/formula\n",
    "    \n",
    "    Parameters\n",
    "    --------------------\n",
    "    'f' : 'callable'\n",
    "        function that we want to integrate\n",
    "    'a' : 'float'\n",
    "        lower limit of the integral\n",
    "    'b' : 'float'\n",
    "        upper limit of the integral\n",
    "    'n' : 'int'\n",
    "        (n+1) be the number of nodes\n",
    "        \n",
    "    Return\n",
    "    -------------------\n",
    "    'A' : 'float'\n",
    "        the approximated value of the integral\n",
    "    \"\"\"\n",
    "    h = (b-a) / (n+2)\n",
    "    f_2 = 0\n",
    "    for i in range(0, n+3):\n",
    "        x = a + i*h\n",
    "        if (i % 2 != 0):\n",
    "            f_2 = f_2 + f(x)\n",
    "    A = 2 * h * f_2\n",
    "    return A"
   ]
  },
  {
   "cell_type": "markdown",
   "id": "2a5d8db9-c063-4842-9882-545854328a86",
   "metadata": {},
   "source": [
    "## **Exo14**"
   ]
  },
  {
   "cell_type": "markdown",
   "id": "5724d698-2742-415f-8e1e-64334897fe42",
   "metadata": {},
   "source": [
    "Use the Composite Midpoint rule with $n + 2$ subintervals to approximate the following\n",
    "integrals."
   ]
  },
  {
   "cell_type": "markdown",
   "id": "e7ff74d7-b40e-434d-a833-23a3a1edc48a",
   "metadata": {},
   "source": [
    "### **(a)**"
   ]
  },
  {
   "cell_type": "code",
   "execution_count": 93,
   "id": "f2f9b7f0-5d9d-4026-ac65-28be24c264ac",
   "metadata": {
    "tags": []
   },
   "outputs": [
    {
     "data": {
      "text/plain": [
       "0.7867001295984857"
      ]
     },
     "execution_count": 93,
     "metadata": {},
     "output_type": "execute_result"
    }
   ],
   "source": [
    "f_14_a = lambda x: 2 / (x**2 + 4)\n",
    "CompositeMidpoint(f = f_14_a, a = 0, b = 2, n = 6)"
   ]
  },
  {
   "cell_type": "markdown",
   "id": "b82adba6-b4fe-41e3-8355-58c6c2a5c9e9",
   "metadata": {},
   "source": [
    "### **(b)**"
   ]
  },
  {
   "cell_type": "code",
   "execution_count": 94,
   "id": "c5421ca4-8163-45ff-9c00-72937c0e392c",
   "metadata": {
    "tags": []
   },
   "outputs": [
    {
     "data": {
      "text/plain": [
       "-14.998476941632312"
      ]
     },
     "execution_count": 94,
     "metadata": {},
     "output_type": "execute_result"
    }
   ],
   "source": [
    "f_14_b = lambda x: np.exp(2*x) * np.sin(3*x)\n",
    "CompositeMidpoint(f = f_14_b, a = 0, b = 2, n = 8)"
   ]
  },
  {
   "cell_type": "markdown",
   "id": "8393feb8-6e3b-4e73-b72f-989daf5a8618",
   "metadata": {},
   "source": [
    "## **Exo15**"
   ]
  },
  {
   "cell_type": "code",
   "execution_count": 97,
   "id": "037384e4-f19a-457f-bde8-22313468d320",
   "metadata": {
    "tags": []
   },
   "outputs": [
    {
     "name": "stdout",
     "output_type": "stream",
     "text": [
      "0.42158203719810194\n",
      "0.4227161879339765\n",
      "0.42417920849962915\n"
     ]
    }
   ],
   "source": [
    "f_15 = lambda x: x**2 * np.exp(-x**2)\n",
    "print(CompositeTrapezoidal(f = f_15, a = 0, b = 2, n = 8))\n",
    "print(CompositeSimpson(f = f_15, a = 0, b = 2, n = 8))\n",
    "print(CompositeMidpoint(f = f_15, a = 0, b = 2, n = 8))"
   ]
  },
  {
   "cell_type": "markdown",
   "id": "311afe70-3330-4a88-bace-8ba135336f3f",
   "metadata": {},
   "source": [
    "## **Exo16**"
   ]
  },
  {
   "cell_type": "markdown",
   "id": "4c1b6402-3cb2-4a05-a444-3d791ba6a548",
   "metadata": {},
   "source": [
    "### **(a)**"
   ]
  },
  {
   "cell_type": "code",
   "execution_count": 8,
   "id": "38f15362-328d-479c-b680-17db06a5ce62",
   "metadata": {
    "tags": []
   },
   "outputs": [
    {
     "name": "stdout",
     "output_type": "stream",
     "text": [
      "0.04381780460041329 45.64354645876384\n"
     ]
    }
   ],
   "source": [
    "h_CT = np.sqrt(6*10**(-5)/0.03125)\n",
    "n_CT = 2/h_CT\n",
    "print(h_CT, n_CT)"
   ]
  },
  {
   "cell_type": "code",
   "execution_count": 9,
   "id": "f2adce26-7f58-4788-9f4d-02d55cba631a",
   "metadata": {
    "tags": []
   },
   "outputs": [
    {
     "data": {
      "text/plain": [
       "0.40547057780408446"
      ]
     },
     "execution_count": 9,
     "metadata": {},
     "output_type": "execute_result"
    }
   ],
   "source": [
    "f_16 = lambda x: 1 / (x + 4)\n",
    "CompositeTrapezoidal(f = f_16, a = 0, b = 2, n = 46)"
   ]
  },
  {
   "cell_type": "markdown",
   "id": "cf310391-daaf-4b04-b09c-832e027d2556",
   "metadata": {},
   "source": [
    "### **(b)**"
   ]
  },
  {
   "cell_type": "code",
   "execution_count": 10,
   "id": "e3be8b99-20b0-488d-9fee-eae3a493a26d",
   "metadata": {
    "tags": []
   },
   "outputs": [
    {
     "name": "stdout",
     "output_type": "stream",
     "text": [
      "0.44267276788012866 4.518010018049224\n"
     ]
    }
   ],
   "source": [
    "h_CS = (90*10**(-5)/0.0234375)**(1/4)\n",
    "n_CS = 2/h_CS\n",
    "print(h_CS, n_CS)"
   ]
  },
  {
   "cell_type": "code",
   "execution_count": 12,
   "id": "36f3dec6-7bcf-4af9-a2c6-bc08f5c7312f",
   "metadata": {
    "tags": []
   },
   "outputs": [
    {
     "data": {
      "text/plain": [
       "0.4054663745840217"
      ]
     },
     "execution_count": 12,
     "metadata": {},
     "output_type": "execute_result"
    }
   ],
   "source": [
    "CompositeSimpson(f = f_16, a = 0, b = 2, n = 6)"
   ]
  },
  {
   "cell_type": "markdown",
   "id": "532e2d9f-487c-4c5d-b229-cc28810732c3",
   "metadata": {},
   "source": [
    "### **(c)**"
   ]
  },
  {
   "cell_type": "code",
   "execution_count": 14,
   "id": "1a7619b4-ccee-452f-bc12-4a20f08d79b6",
   "metadata": {
    "tags": []
   },
   "outputs": [
    {
     "name": "stdout",
     "output_type": "stream",
     "text": [
      "0.03098386676965934 62.549722436790276\n"
     ]
    }
   ],
   "source": [
    "h_CM = np.sqrt(3*10**(-5)/0.03125)\n",
    "n_CM = (2/h_CM) - 2\n",
    "print(h_CM, n_CM)"
   ]
  },
  {
   "cell_type": "code",
   "execution_count": 17,
   "id": "5cb047b8-4866-4419-b182-fc276215bab8",
   "metadata": {
    "tags": []
   },
   "outputs": [
    {
     "data": {
      "text/plain": [
       "0.40545979433290036"
      ]
     },
     "execution_count": 17,
     "metadata": {},
     "output_type": "execute_result"
    }
   ],
   "source": [
    "CompositeMidpoint(f = f_16, a = 0, b = 2, n = 64)"
   ]
  },
  {
   "cell_type": "markdown",
   "id": "15999ce1-a1c5-4061-9099-9ade34ec1d8d",
   "metadata": {},
   "source": [
    "## **Exo17**"
   ]
  },
  {
   "cell_type": "code",
   "execution_count": null,
   "id": "3e36b4b9-da4e-4b90-9be4-90ebcc3a8ef6",
   "metadata": {},
   "outputs": [],
   "source": []
  },
  {
   "cell_type": "code",
   "execution_count": null,
   "id": "1ddbae61-5cb0-4b06-8499-43089faceea8",
   "metadata": {},
   "outputs": [],
   "source": []
  }
 ],
 "metadata": {
  "kernelspec": {
   "display_name": "Python 3 (ipykernel)",
   "language": "python",
   "name": "python3"
  },
  "language_info": {
   "codemirror_mode": {
    "name": "ipython",
    "version": 3
   },
   "file_extension": ".py",
   "mimetype": "text/x-python",
   "name": "python",
   "nbconvert_exporter": "python",
   "pygments_lexer": "ipython3",
   "version": "3.10.9"
  }
 },
 "nbformat": 4,
 "nbformat_minor": 5
}
