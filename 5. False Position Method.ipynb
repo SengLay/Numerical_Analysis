{
 "cells": [
  {
   "cell_type": "code",
   "execution_count": 2,
   "id": "3b942380",
   "metadata": {},
   "outputs": [],
   "source": [
    "import numpy as np"
   ]
  },
  {
   "cell_type": "markdown",
   "id": "4b852c94",
   "metadata": {},
   "source": [
    "## False Position Method"
   ]
  },
  {
   "cell_type": "code",
   "execution_count": 3,
   "id": "74aa9568-61bf-4c18-979a-123d1fc73d4b",
   "metadata": {
    "tags": []
   },
   "outputs": [],
   "source": [
    "def FalsePositionMethod(p_0, p_1, funct, TOL = 1e-6, MAX_ITER = 500):\n",
    "    \"\"\"Solve for a function's root f(x) = 0 via the False Position Method.\n",
    "\n",
    "    Args\n",
    "    ----\n",
    "        p_0, p_1: Initial value of approximation\n",
    "        funct (function): Function of interest, f(x)\n",
    "        TOL: Solution tolerance\n",
    "        MAX_ITER: Maximum number of iterations\n",
    "    \n",
    "    Return\n",
    "    -------\n",
    "        p: Root of f(x)=0 given p_0, p_1\n",
    "    \"\"\"\n",
    "    ## STEP 1:\n",
    "    soln = 0.0      # Store final solution in this variable\n",
    "    q_0 = funct(p_0)\n",
    "    q_1 = funct(p_1)\n",
    "\n",
    "    ## STEP 2:\n",
    "    for iters in range(1, MAX_ITER):   # Iterate until max. iterations are reached.\n",
    "        ## STEP 3:\n",
    "        p = p_1 - q_1*(p_1 - p_0)/(q_1 - q_0)         \n",
    "\n",
    "        ## STEP 4:\n",
    "        # Check if tolerance is satisfied\n",
    "        if np.abs(p - p_1) <= TOL:\n",
    "            # Break if tolerance is met, return answer!\n",
    "            print('Found solution after', iters+1, 'iterations.')\n",
    "            soln = p\n",
    "            break\n",
    "        \n",
    "        ## STEP 5\n",
    "        q = funct(p)\n",
    "        if (np.sign(q) * np.sign(q_1)) < 0.0:\n",
    "            p_0 = p_1\n",
    "            q_0 = q_1\n",
    "            \n",
    "        ## STEP 6\n",
    "        p_1 = p\n",
    "        q_1 = q\n",
    "    \n",
    "    return p"
   ]
  },
  {
   "cell_type": "code",
   "execution_count": 4,
   "id": "713d4aef-8a8f-44f0-8f84-37aa7cb37d49",
   "metadata": {
    "tags": []
   },
   "outputs": [
    {
     "data": {
      "text/plain": [
       "2.444444444444444"
      ]
     },
     "execution_count": 4,
     "metadata": {},
     "output_type": "execute_result"
    }
   ],
   "source": [
    "function_11 = lambda x: x**2 - 6\n",
    "FalsePositionMethod(p_0=3, p_1=2, funct=function_11, TOL = 1e-6, MAX_ITER = 3)"
   ]
  },
  {
   "cell_type": "code",
   "execution_count": 5,
   "id": "5dc27365-9804-4378-874d-361460d8615d",
   "metadata": {
    "tags": []
   },
   "outputs": [
    {
     "data": {
      "text/plain": [
       "2.449489742783178"
      ]
     },
     "execution_count": 5,
     "metadata": {},
     "output_type": "execute_result"
    }
   ],
   "source": [
    "np.sqrt(6)"
   ]
  },
  {
   "cell_type": "markdown",
   "id": "20feb7bf-8686-428a-bc46-dda1fc423108",
   "metadata": {},
   "source": [
    "Therefore, by using the False Position method we obatin a result which is closer to $\\sqrt{6}$."
   ]
  },
  {
   "cell_type": "code",
   "execution_count": null,
   "id": "aefb4909",
   "metadata": {},
   "outputs": [],
   "source": []
  }
 ],
 "metadata": {
  "kernelspec": {
   "display_name": "Python 3 (ipykernel)",
   "language": "python",
   "name": "python3"
  },
  "language_info": {
   "codemirror_mode": {
    "name": "ipython",
    "version": 3
   },
   "file_extension": ".py",
   "mimetype": "text/x-python",
   "name": "python",
   "nbconvert_exporter": "python",
   "pygments_lexer": "ipython3",
   "version": "3.9.7"
  }
 },
 "nbformat": 4,
 "nbformat_minor": 5
}
