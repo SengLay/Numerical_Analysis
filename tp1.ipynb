{
 "cells": [
  {
   "cell_type": "markdown",
   "id": "600892fb-ddcb-4f7e-9305-9568bb21e851",
   "metadata": {},
   "source": [
    "# TP1: Roots of Equations"
   ]
  },
  {
   "cell_type": "markdown",
   "id": "db8e9714-26d6-4690-a7ee-a0a90cb70d4b",
   "metadata": {},
   "source": [
    "## 1. Introduction to Python"
   ]
  },
  {
   "cell_type": "markdown",
   "id": "a099bbc5-bb2f-442b-a117-f24d20694fd5",
   "metadata": {},
   "source": [
    "### 1."
   ]
  },
  {
   "cell_type": "code",
   "execution_count": null,
   "id": "8283280c-5f84-4fce-ae26-f92c1a4ba92c",
   "metadata": {
    "tags": []
   },
   "outputs": [],
   "source": [
    "def solve_linear_eq(b, c):\n",
    "    return(-c/b)"
   ]
  },
  {
   "cell_type": "code",
   "execution_count": null,
   "id": "ca383368-f93c-4acf-a152-05bb1ad664e2",
   "metadata": {
    "tags": []
   },
   "outputs": [],
   "source": [
    "solve_linear_eq(10, 25)"
   ]
  },
  {
   "cell_type": "markdown",
   "id": "950cf2fd-7450-463e-9aca-2bbec87c7d97",
   "metadata": {},
   "source": [
    "### 2."
   ]
  },
  {
   "cell_type": "code",
   "execution_count": null,
   "id": "6a932c6e-5956-4a09-9a2b-fff869479114",
   "metadata": {
    "tags": []
   },
   "outputs": [],
   "source": [
    "import numpy as np\n",
    "def solve_quadratic_eq(a, b, c):\n",
    "    delta = b*b - 4*a*c\n",
    "    return((-b+np.sqrt(delta))/2*a, (-b-np.sqrt(delta))/2*a)"
   ]
  },
  {
   "cell_type": "code",
   "execution_count": null,
   "id": "aa1ee98b-6a79-4728-9821-5c1357babfcc",
   "metadata": {
    "tags": []
   },
   "outputs": [],
   "source": [
    "solve_quadratic_eq(1, 2, 1)"
   ]
  },
  {
   "cell_type": "markdown",
   "id": "172facf1-2912-4407-aee1-d77809ee0357",
   "metadata": {},
   "source": [
    "### 3."
   ]
  },
  {
   "cell_type": "code",
   "execution_count": null,
   "id": "70d65f25-52d9-4135-ab58-7c0c3c6275e9",
   "metadata": {
    "tags": []
   },
   "outputs": [],
   "source": [
    "def sum_a(n):\n",
    "    a = 0\n",
    "    for i in range(n): # i=0,...,n-1\n",
    "        a += i + 1\n",
    "    return a"
   ]
  },
  {
   "cell_type": "code",
   "execution_count": null,
   "id": "552e3414-0c40-4911-8a15-5d1047744b06",
   "metadata": {
    "tags": []
   },
   "outputs": [],
   "source": [
    "sum_a(10)"
   ]
  },
  {
   "cell_type": "code",
   "execution_count": null,
   "id": "d9c54bb8-cb45-4521-a452-2406d2dde44b",
   "metadata": {
    "tags": []
   },
   "outputs": [],
   "source": [
    "# verify with the given formula\n",
    "n=10\n",
    "n*(n+1)/2"
   ]
  },
  {
   "cell_type": "code",
   "execution_count": null,
   "id": "66ea1df2-60c4-42fa-8355-a3f345a99e7f",
   "metadata": {
    "tags": []
   },
   "outputs": [],
   "source": [
    "def sum_b(n):\n",
    "    b = 0\n",
    "    for i in range(1, n+1): # i=1,..,n\n",
    "        b = b + 1/(i*(i+1))\n",
    "    return(b)"
   ]
  },
  {
   "cell_type": "code",
   "execution_count": null,
   "id": "d75301dc-222f-44d2-ac35-5fa678452fe4",
   "metadata": {
    "tags": []
   },
   "outputs": [],
   "source": [
    "sum_b(10)"
   ]
  },
  {
   "cell_type": "code",
   "execution_count": null,
   "id": "f0d86790-7c07-466e-9d84-542786b288ae",
   "metadata": {
    "tags": []
   },
   "outputs": [],
   "source": [
    "# verify\n",
    "n = 10\n",
    "1 - 1/(n+1)"
   ]
  },
  {
   "cell_type": "markdown",
   "id": "235844af-603b-4f36-9f8a-0f1acc81963f",
   "metadata": {},
   "source": [
    "### 4."
   ]
  },
  {
   "cell_type": "code",
   "execution_count": null,
   "id": "0bde087a-49eb-4270-894c-53698c7f7997",
   "metadata": {
    "tags": []
   },
   "outputs": [],
   "source": [
    "import math\n",
    "\n",
    "def sum_expo(n):\n",
    "    x = 0\n",
    "    for k in range(1, n+1): # i.e. k=1,...,n\n",
    "        x += 1/math.factorial(k)\n",
    "    return(x)"
   ]
  },
  {
   "cell_type": "code",
   "execution_count": null,
   "id": "d426e937-61af-4787-805b-8121cf90c028",
   "metadata": {
    "tags": []
   },
   "outputs": [],
   "source": [
    "sum_expo(10)"
   ]
  },
  {
   "cell_type": "markdown",
   "id": "844fe29c-aed8-4bb8-8c07-d4a02df3b1f0",
   "metadata": {},
   "source": [
    "### 5."
   ]
  },
  {
   "cell_type": "code",
   "execution_count": null,
   "id": "718179f8-c265-4465-a293-2f45ce0f759a",
   "metadata": {
    "tags": []
   },
   "outputs": [],
   "source": [
    "def factorial(x):\n",
    "    \"\"\"This is a recursive function\n",
    "    to find the factorial of an integer\"\"\"\n",
    "    if x == 1:\n",
    "        return 1\n",
    "    else:\n",
    "        # recursive call to the function\n",
    "        return (x * factorial(x-1))"
   ]
  },
  {
   "cell_type": "code",
   "execution_count": null,
   "id": "fe513db8-0361-4e49-bd99-8b03d74f5378",
   "metadata": {
    "tags": []
   },
   "outputs": [],
   "source": [
    "def sum_expo_bis(n):\n",
    "    x = 0\n",
    "    for k in range(1, n+1): # i.e. k=1,...,n\n",
    "        x = x + 1/factorial(k)\n",
    "    return x"
   ]
  },
  {
   "cell_type": "code",
   "execution_count": null,
   "id": "70ecf8b6-6de1-47a9-90aa-11a731ceb333",
   "metadata": {
    "tags": []
   },
   "outputs": [],
   "source": [
    "sum_expo_bis(10)"
   ]
  },
  {
   "cell_type": "code",
   "execution_count": null,
   "id": "dc947679-011f-4a0a-84ef-5f92da2eae1b",
   "metadata": {
    "tags": []
   },
   "outputs": [],
   "source": [
    "def expo(x):\n",
    "    return np.exp(x)"
   ]
  },
  {
   "cell_type": "code",
   "execution_count": null,
   "id": "e777b144-0cd9-4887-8238-ed9a66a0043d",
   "metadata": {
    "tags": []
   },
   "outputs": [],
   "source": [
    "expo(1)"
   ]
  },
  {
   "cell_type": "code",
   "execution_count": null,
   "id": "e48a1b85-6b30-4581-bd4a-7253911f85b9",
   "metadata": {
    "tags": []
   },
   "outputs": [],
   "source": [
    "def expo_polynomial_approx(x, n):\n",
    "    res = 0\n",
    "    for k in range(n+1): # i.e. k=0,...,n\n",
    "        res += (x**k)/math.factorial(k)\n",
    "    return(res)"
   ]
  },
  {
   "cell_type": "code",
   "execution_count": null,
   "id": "623fc9d3-53f3-4405-a0ef-48e9e1a70eb1",
   "metadata": {
    "tags": []
   },
   "outputs": [],
   "source": [
    "expo_polynomial_approx(0.1, 5) # e^(0.1)"
   ]
  },
  {
   "cell_type": "code",
   "execution_count": null,
   "id": "10e2647c-e76a-42b8-b7cb-ab09cd0b3a7e",
   "metadata": {
    "tags": []
   },
   "outputs": [],
   "source": [
    "expo(0.1)"
   ]
  },
  {
   "cell_type": "code",
   "execution_count": null,
   "id": "141393a0-3c13-4b4e-9365-62a5fb7a8150",
   "metadata": {
    "tags": []
   },
   "outputs": [],
   "source": [
    "expo_polynomial_approx(0.5, 5) # exp(0.5)"
   ]
  },
  {
   "cell_type": "code",
   "execution_count": null,
   "id": "85186721-4be8-4c42-ba37-01b6b0f16e1e",
   "metadata": {
    "tags": []
   },
   "outputs": [],
   "source": [
    "expo(0.5)"
   ]
  },
  {
   "cell_type": "code",
   "execution_count": null,
   "id": "95776dd6-b982-463f-8dc7-512c37843427",
   "metadata": {
    "tags": []
   },
   "outputs": [],
   "source": [
    "expo_polynomial_approx(1, 5)"
   ]
  },
  {
   "cell_type": "code",
   "execution_count": null,
   "id": "0624880d-f166-4478-891f-81642cbef4be",
   "metadata": {
    "tags": []
   },
   "outputs": [],
   "source": [
    "expo(1)"
   ]
  },
  {
   "cell_type": "markdown",
   "id": "92f828ef-2cea-42be-a56a-3b169b76c566",
   "metadata": {},
   "source": [
    "### 6."
   ]
  },
  {
   "cell_type": "code",
   "execution_count": null,
   "id": "36ea1a4e-5ffa-4ab1-ab2d-bfbe8351bd6e",
   "metadata": {
    "tags": []
   },
   "outputs": [],
   "source": [
    "# + poly[1]x(n-2) + .. + poly[n-1]\n",
    "def horner_poly(poly, x):\n",
    "    # Initialize result\n",
    "    result = poly[0]\n",
    "    n = len(poly)\n",
    " \n",
    "    # Evaluate value of polynomial\n",
    "    # using Horner's method\n",
    "    for i in range(1, n):\n",
    "        result = result*x + poly[i]\n",
    " \n",
    "    return result"
   ]
  },
  {
   "cell_type": "code",
   "execution_count": null,
   "id": "fcc588d0-1357-4de2-890b-c19f5630b020",
   "metadata": {
    "tags": []
   },
   "outputs": [],
   "source": [
    "# Let us evaluate value of 4x^6 - x^5 + 2x^3 - 3x^2 + 1 at x = 0.1\n",
    "poly = [4, -1, 2, -3, 1]\n",
    "x = 0.1\n",
    "print(\"Value of polynomial is:\", horner_poly(poly, x))"
   ]
  },
  {
   "cell_type": "code",
   "execution_count": null,
   "id": "63977b1d-14e6-4424-a6b2-d00765600829",
   "metadata": {
    "tags": []
   },
   "outputs": [],
   "source": [
    "from numpy import polyval\n",
    "polyval([4, -1, 2, -3, 1], 0.1)"
   ]
  },
  {
   "cell_type": "code",
   "execution_count": null,
   "id": "36a24c19-5a35-4f32-9cd5-8d254649c4cb",
   "metadata": {
    "tags": []
   },
   "outputs": [],
   "source": [
    "def poly_(a_list, x):\n",
    "    res = 0\n",
    "    for n, a in enumerate(a_list): # for index, value in enumerate(list)\n",
    "        res += a*x**n\n",
    "    return res"
   ]
  },
  {
   "cell_type": "code",
   "execution_count": null,
   "id": "c17f6923-1018-4af3-9313-deaa9c10880d",
   "metadata": {
    "tags": []
   },
   "outputs": [],
   "source": [
    "poly_([1, -3, 2, -1, 4], 0.1)"
   ]
  },
  {
   "cell_type": "code",
   "execution_count": null,
   "id": "ee016ff9-3619-49bb-ae21-7a711fae453d",
   "metadata": {
    "tags": []
   },
   "outputs": [],
   "source": [
    "list0 = [9, 4,2,3,1]\n",
    "for n, a in enumerate(list0):\n",
    "    print(n)\n",
    "    print(a)"
   ]
  },
  {
   "cell_type": "markdown",
   "id": "a782b049-3a9b-4f68-9a06-1646be8ae043",
   "metadata": {},
   "source": [
    "## 2. Solutions of Equations in One Variable"
   ]
  },
  {
   "cell_type": "markdown",
   "id": "2ad52e45-c86d-4f5b-b64f-6998de71fbb1",
   "metadata": {},
   "source": [
    "## 1."
   ]
  },
  {
   "cell_type": "code",
   "execution_count": null,
   "id": "22bd52ec-6eef-41ba-9228-dd46debbad11",
   "metadata": {
    "tags": []
   },
   "outputs": [],
   "source": [
    "function_1 = lambda x: (x - 1)**10\n",
    "p_1 = 1\n",
    "p_n = lambda n: 1 + 1/n\n",
    "\n",
    "print(np.abs(function_1(p_n(1))))\n",
    "print(np.abs(function_1(p_n(2))))"
   ]
  },
  {
   "cell_type": "code",
   "execution_count": null,
   "id": "373c3e11-e7a6-4ae6-bfd4-cba71546662b",
   "metadata": {
    "tags": []
   },
   "outputs": [],
   "source": [
    "print(np.abs(p_1 - p_n(2)))\n",
    "print(np.abs(p_1 - p_n(100)))\n",
    "print(np.abs(p_1 - p_n(1000)))"
   ]
  },
  {
   "cell_type": "code",
   "execution_count": null,
   "id": "be7f2287-8cfc-46d1-8446-d057b265f4da",
   "metadata": {
    "tags": []
   },
   "outputs": [],
   "source": [
    "10**(3/10)"
   ]
  },
  {
   "cell_type": "markdown",
   "id": "12205dfb-9a52-47b8-95eb-59d7ac0b2367",
   "metadata": {},
   "source": [
    "## 2."
   ]
  },
  {
   "cell_type": "code",
   "execution_count": null,
   "id": "a1d6185f-8b44-446c-ac33-ddd63e94b342",
   "metadata": {
    "tags": []
   },
   "outputs": [],
   "source": [
    "def sum_sequence(n):\n",
    "    p = 0\n",
    "    for k in range(1, n+1): # k=1,...,n\n",
    "        p += 1/k\n",
    "    return p"
   ]
  },
  {
   "cell_type": "code",
   "execution_count": null,
   "id": "075c31d8-b4ef-4cfc-9725-0f30f144ade0",
   "metadata": {
    "tags": []
   },
   "outputs": [],
   "source": [
    "sum_sequence(n=10)"
   ]
  },
  {
   "cell_type": "code",
   "execution_count": null,
   "id": "ca52a2c6-6a53-4da2-bd6d-ddbf22ef87e4",
   "metadata": {
    "tags": []
   },
   "outputs": [],
   "source": [
    "sum_sequence(n=1000)"
   ]
  },
  {
   "cell_type": "code",
   "execution_count": null,
   "id": "41ebfe8b-6b99-4964-9b74-860f55f62609",
   "metadata": {
    "tags": []
   },
   "outputs": [],
   "source": [
    "sum_sequence(n=1000000)"
   ]
  },
  {
   "cell_type": "code",
   "execution_count": null,
   "id": "52b1e259-b833-4509-b496-ecfc88974f10",
   "metadata": {
    "tags": []
   },
   "outputs": [],
   "source": [
    "def BisectionMethod(a, b, funct, TOL = 1e-6, MAX_ITER = 500):\n",
    "    \"\"\"Solve for a function's root via the Bisection Method.\n",
    "\n",
    "    Args\n",
    "    ----\n",
    "        a: Initial left boundary point\n",
    "        b: Initial right boundary point\n",
    "        funct (function): Function of interest, f(x)\n",
    "        TOL: Solution tolerance\n",
    "        MAX_ITER: Maximum number of iterations\n",
    "    \n",
    "    Return\n",
    "    -------\n",
    "        p: Root of f(x) within [a, b]\n",
    "    \"\"\"\n",
    "    ## STEP 1:\n",
    "    soln = 0.0      # Store final solution in this variable\n",
    "    f_a = funct(a)  # Evaluate left point\n",
    "    ## STEP 2:\n",
    "    for iters in range(MAX_ITER):   # Iterate until max. iterations are reached.\n",
    "        ## STEP 3:\n",
    "        p = a + ((b - a) / 2.0)     # Determine center of the interval, p\n",
    "        f_p = funct(p)              # Evaluate midpoint \n",
    "\n",
    "        ## STEP 4:\n",
    "        # Check if tolerance is satisfied\n",
    "        if f_p == 0.0 or (b - a) / 2 < TOL:\n",
    "            # Break if tolerance is met, return answer!\n",
    "            print('Found solution after', iters+1, 'iterations.')\n",
    "            soln = p\n",
    "            break\n",
    "        \n",
    "        ## STEP 5\n",
    "        # Determine new bounds depending on the values of f(a) and f(p)\n",
    "        if (np.sign(f_a) * np.sign(f_p)) > 0.0:\n",
    "            a = p       # If positive, move to the left\n",
    "            f_a = f_p\n",
    "        else:\n",
    "            b = p       # Otherwise (if negative), move to the right\n",
    "    \n",
    "    return p"
   ]
  },
  {
   "cell_type": "markdown",
   "id": "79c84d3d-b06c-4c71-9706-2cfb34e04b90",
   "metadata": {},
   "source": [
    "### 3."
   ]
  },
  {
   "cell_type": "code",
   "execution_count": null,
   "id": "509d3ea0-93db-4c46-a733-3f39b305d0ee",
   "metadata": {
    "tags": []
   },
   "outputs": [],
   "source": [
    "def fun_3(x):\n",
    "    return np.sqrt(x) - np.cos(x)"
   ]
  },
  {
   "cell_type": "code",
   "execution_count": null,
   "id": "14e972e3-bbe9-4a1c-8951-4c6aa27c19dc",
   "metadata": {
    "tags": []
   },
   "outputs": [],
   "source": [
    "BisectionMethod(a=0, b=1, funct=fun_3, TOL = 1e-6, MAX_ITER = 3)"
   ]
  },
  {
   "cell_type": "code",
   "execution_count": null,
   "id": "7291c8f4-b520-4e51-a868-bdde3617124c",
   "metadata": {
    "tags": []
   },
   "outputs": [],
   "source": [
    "function_3 = lambda x: np.sqrt(x) - np.cos(x)"
   ]
  },
  {
   "cell_type": "code",
   "execution_count": null,
   "id": "68193ac1-dc47-4e5f-b582-4da8925a57bb",
   "metadata": {
    "tags": []
   },
   "outputs": [],
   "source": [
    "BisectionMethod(a=0, b=1, funct=function_3, TOL = 1e-6, MAX_ITER = 3)"
   ]
  },
  {
   "cell_type": "markdown",
   "id": "35194293-7a61-4700-b27f-df5d9ae7cd1a",
   "metadata": {},
   "source": [
    "### 4."
   ]
  },
  {
   "cell_type": "code",
   "execution_count": null,
   "id": "5514985e-497a-4bea-8907-8f1b41c1c658",
   "metadata": {
    "tags": []
   },
   "outputs": [],
   "source": [
    "function_4 = lambda x: x**3 - 7*x**2 + 14*x - 6\n",
    "BisectionMethod(a=0, b=1, funct=function_4, TOL = 1e-2, MAX_ITER = 200)"
   ]
  },
  {
   "cell_type": "code",
   "execution_count": null,
   "id": "695275c2-b268-4012-9252-961cd8a84aaa",
   "metadata": {
    "tags": []
   },
   "outputs": [],
   "source": [
    "function_4 = lambda x: x**3 - 7*x**2 + 14*x - 6\n",
    "BisectionMethod(a=1, b=3.2, funct=function_4, TOL = 1e-2, MAX_ITER = 200)"
   ]
  },
  {
   "cell_type": "code",
   "execution_count": null,
   "id": "cf15818b-0af9-4608-8efe-f186cdab52f0",
   "metadata": {
    "tags": []
   },
   "outputs": [],
   "source": [
    "function_4 = lambda x: x**3 - 7*x**2 + 14*x - 6\n",
    "BisectionMethod(a=3.2, b=4, funct=function_4, TOL = 1e-2, MAX_ITER = 200)"
   ]
  },
  {
   "cell_type": "markdown",
   "id": "57bdf15a-d131-41e2-ad54-714934ab8035",
   "metadata": {},
   "source": [
    "### 5."
   ]
  },
  {
   "cell_type": "code",
   "execution_count": null,
   "id": "8ba363cd-f690-4e0d-9ca6-9753c73d5bec",
   "metadata": {
    "tags": []
   },
   "outputs": [],
   "source": [
    "function_5a = lambda x: x - 2**(-x)\n",
    "BisectionMethod(a=0, b=1, funct=function_5a, TOL = 1e-5, MAX_ITER = 200)"
   ]
  },
  {
   "cell_type": "code",
   "execution_count": null,
   "id": "97128bcf-2a5f-4e52-96d3-b01248e6f19c",
   "metadata": {
    "tags": []
   },
   "outputs": [],
   "source": [
    "function_5b = lambda x: np.exp(1)**x - x**2 + 3*x - 2\n",
    "BisectionMethod(a=0, b=1, funct=function_5b, TOL = 1e-5, MAX_ITER = 200)"
   ]
  },
  {
   "cell_type": "code",
   "execution_count": null,
   "id": "6ecd5fe5-efe8-48cb-a1a5-ac7bd7f245e3",
   "metadata": {
    "tags": []
   },
   "outputs": [],
   "source": [
    "function_5c = lambda x: 2*x*np.cos(2*x) - (x + 1)**2\n",
    "print(BisectionMethod(a=-3, b=-2, funct=function_5c, TOL = 1e-5, MAX_ITER = 200))\n",
    "print(BisectionMethod(a=-1, b=0, funct=function_5c, TOL = 1e-5, MAX_ITER = 200))"
   ]
  },
  {
   "cell_type": "code",
   "execution_count": null,
   "id": "4407ceee-31c4-43a6-bc93-02fe6872c585",
   "metadata": {
    "tags": []
   },
   "outputs": [],
   "source": [
    "function_5d = lambda x: x*np.cos(x) - 2*x**2 + 3*x - 1\n",
    "print(BisectionMethod(a=0.2, b=0.3, funct=function_5d, TOL = 1e-5, MAX_ITER = 200))\n",
    "print(BisectionMethod(a=1.2, b=1.3, funct=function_5d, TOL = 1e-5, MAX_ITER = 200))"
   ]
  },
  {
   "cell_type": "markdown",
   "id": "bcf70412-db5f-4089-85f2-5bf5129ad1fc",
   "metadata": {},
   "source": [
    "### 6."
   ]
  },
  {
   "cell_type": "code",
   "execution_count": null,
   "id": "b3eece61-d9a2-4497-b52a-3ef13f7002f9",
   "metadata": {
    "tags": []
   },
   "outputs": [],
   "source": [
    "def FixedPointMethod(p_0, funct, TOL = 1e-6, MAX_ITER = 500):\n",
    "    \"\"\"Solve for a function's root via Fixed-Point Method.\n",
    "\n",
    "    Args\n",
    "    ----\n",
    "        p_0: Initial value of approximation\n",
    "        funct (function): Function of interest for a fixed point, g(x)\n",
    "        TOL: Solution tolerance\n",
    "        MAX_ITER: Maximum number of iterations\n",
    "    \n",
    "    Return\n",
    "    -------\n",
    "        p: Root of p = g(p) given p_0\n",
    "    \"\"\"\n",
    "    ## STEP 1:\n",
    "    p_prev = 0.0    # Keep track of old p-values\n",
    "    soln = 0.0      # Store final solution in this variable\n",
    "\n",
    "    ## STEP 2:\n",
    "    for iters in range(MAX_ITER):   # Iterate until max. iterations are reached.\n",
    "        ## STEP 3:\n",
    "        p = funct(p_0)             \n",
    "\n",
    "        ## STEP 4:\n",
    "        # Check if tolerance is satisfied\n",
    "        if np.abs(p - p_0) < TOL:\n",
    "            # Break if tolerance is met, return answer!\n",
    "            print('Found solution after', iters+1, 'iterations.')\n",
    "            soln = p\n",
    "            break\n",
    "        \n",
    "        ## STEP 5\n",
    "        p_0 = p\n",
    "\n",
    "        p_prev = p      # Replace old with new\n",
    "    \n",
    "    return p"
   ]
  },
  {
   "cell_type": "code",
   "execution_count": null,
   "id": "e0ee00e9-e382-43c8-8845-6b8055b8cc4d",
   "metadata": {},
   "outputs": [],
   "source": [
    "function_6 = lambda x: ( 3*x**2 + 3 )**(1/4)\n",
    "FixedPointMethod(p_0=1, funct=function_6, TOL = 1e-2, MAX_ITER = 200)"
   ]
  },
  {
   "cell_type": "markdown",
   "id": "13dc98d4-c7c4-4fab-a420-80cb82b2f6c4",
   "metadata": {},
   "source": [
    "## 7."
   ]
  },
  {
   "cell_type": "code",
   "execution_count": null,
   "id": "d2802f28-5c69-4d6a-afc7-e5f972f12008",
   "metadata": {
    "tags": []
   },
   "outputs": [],
   "source": [
    "function_7 = lambda x: ( x + 1 )**(1/3)\n",
    "FixedPointMethod(p_0=1, funct=function_7, TOL = 1e-2, MAX_ITER = 200)"
   ]
  },
  {
   "cell_type": "markdown",
   "id": "661b279b-73f1-4cf9-b5b5-57c739c900f7",
   "metadata": {
    "tags": []
   },
   "source": [
    "## 8."
   ]
  },
  {
   "cell_type": "markdown",
   "id": "e7db63e8-8edd-42f4-b762-ca35acfe5fda",
   "metadata": {},
   "source": [
    "The inequalities in **Corollary 7 (c.f Slide course)** give $\\left|p_n-p\\right|<k^n \\max \\left(p_0-a, b-p_0\\right)$.\n",
    "\n",
    "We want\n",
    "$$\n",
    "k^n \\max \\left(p_0-a, b-p_0\\right)<10^{-5} \n",
    "$$\n",
    "So that we need:\n",
    "$$\n",
    "n>\\frac{\\ln \\left(10^{-5}\\right)-\\ln \\left(\\max \\left(p_0-a, b-p_0\\right)\\right)}{\\ln k} \n",
    "$$"
   ]
  },
  {
   "cell_type": "markdown",
   "id": "890b66aa-d93f-48e0-9789-d8c613dc423c",
   "metadata": {},
   "source": [
    "**(a)** Using $g(x)=2+\\sin x$ on $[2,3]$, we have $k=|g'(3)|=|\\cos(3)|=0.9899924966$ \n",
    "\n",
    "so that with $p_0=2$ we have $n>$ $\\ln (0.00001) / \\ln k=1144.663221$. However, our tolerance is met with $p_{63}=2.5541998$."
   ]
  },
  {
   "cell_type": "code",
   "execution_count": 53,
   "id": "df433715-4c11-43dc-89ec-89db93e7f109",
   "metadata": {
    "tags": []
   },
   "outputs": [
    {
     "data": {
      "text/plain": [
       "0.9899924966004454"
      ]
     },
     "execution_count": 53,
     "metadata": {},
     "output_type": "execute_result"
    }
   ],
   "source": [
    "np.abs(np.cos(3))"
   ]
  },
  {
   "cell_type": "code",
   "execution_count": 54,
   "id": "bdfbbf33-1bfe-46fa-9bbc-454f52f76d35",
   "metadata": {
    "tags": []
   },
   "outputs": [
    {
     "data": {
      "text/plain": [
       "0.4161468365471424"
      ]
     },
     "execution_count": 54,
     "metadata": {},
     "output_type": "execute_result"
    }
   ],
   "source": [
    "np.abs(np.cos(2))"
   ]
  },
  {
   "cell_type": "code",
   "execution_count": 55,
   "id": "98dda9ae-2ec2-4293-8f01-871b0b9f51bc",
   "metadata": {
    "tags": []
   },
   "outputs": [
    {
     "data": {
      "text/plain": [
       "1144.6632210171426"
      ]
     },
     "execution_count": 55,
     "metadata": {},
     "output_type": "execute_result"
    }
   ],
   "source": [
    "k = np.abs(np.cos(3))\n",
    "np.log(1e-5)/np.log(k)"
   ]
  },
  {
   "cell_type": "code",
   "execution_count": 56,
   "id": "74475d58-b386-4a37-970f-22d0ad71df1a",
   "metadata": {
    "tags": []
   },
   "outputs": [
    {
     "name": "stdout",
     "output_type": "stream",
     "text": [
      "Found solution after 63 iterations.\n"
     ]
    },
    {
     "data": {
      "text/plain": [
       "2.554199836971516"
      ]
     },
     "execution_count": 56,
     "metadata": {},
     "output_type": "execute_result"
    }
   ],
   "source": [
    "function_8a = lambda x: 2 + np.sin(x)\n",
    "FixedPointMethod(p_0=2, funct=function_8a, TOL = 1e-5, MAX_ITER = 200)"
   ]
  },
  {
   "cell_type": "markdown",
   "id": "9a57b3a9-5ea6-4a08-95b4-9e8d6e75a887",
   "metadata": {},
   "source": [
    "**(b)** Using $g(x)=\\sqrt[3]{2 x+5}$ and $g'(x)=\\frac{2}{3} (2x + 5)^{-\\frac{2}{3}}$ on $[2,3]$, we have $k=|g'(3)|=0.1540802832$ \n",
    "\n",
    "so that with $p_0=2$ we have $n>$ $\\ln (0.00001) / \\ln k=6.155718005$. However, our tolerance is met with $p_6=2.0945503$."
   ]
  },
  {
   "cell_type": "code",
   "execution_count": 57,
   "id": "57924972-8b7a-48bc-9d26-a4d251a76bfd",
   "metadata": {
    "tags": []
   },
   "outputs": [
    {
     "data": {
      "text/plain": [
       "0.15408028318902994"
      ]
     },
     "execution_count": 57,
     "metadata": {},
     "output_type": "execute_result"
    }
   ],
   "source": [
    "2*(2*2 + 5)**(-2/3)/3"
   ]
  },
  {
   "cell_type": "code",
   "execution_count": 58,
   "id": "8d82b135-998c-49a2-b1b1-d74041e5a631",
   "metadata": {
    "tags": []
   },
   "outputs": [
    {
     "data": {
      "text/plain": [
       "0.1347866721557161"
      ]
     },
     "execution_count": 58,
     "metadata": {},
     "output_type": "execute_result"
    }
   ],
   "source": [
    "2*(2*3 + 5)**(-2/3)/3"
   ]
  },
  {
   "cell_type": "code",
   "execution_count": 59,
   "id": "b6c8355d-8901-4382-a9ac-effeaf920e50",
   "metadata": {
    "tags": []
   },
   "outputs": [
    {
     "data": {
      "text/plain": [
       "6.15571800719119"
      ]
     },
     "execution_count": 59,
     "metadata": {},
     "output_type": "execute_result"
    }
   ],
   "source": [
    "k = 2*(2*2 + 5)**(-2/3)/3\n",
    "np.log(1e-5)/np.log(k)"
   ]
  },
  {
   "cell_type": "code",
   "execution_count": 60,
   "id": "8d3fcea0-dbb5-4fa9-9164-e0ac2d853646",
   "metadata": {
    "tags": []
   },
   "outputs": [
    {
     "name": "stdout",
     "output_type": "stream",
     "text": [
      "Found solution after 6 iterations.\n"
     ]
    },
    {
     "data": {
      "text/plain": [
       "2.0945503078082703"
      ]
     },
     "execution_count": 60,
     "metadata": {},
     "output_type": "execute_result"
    }
   ],
   "source": [
    "function_8b = lambda x: (2*x + 5)**(1/3)\n",
    "FixedPointMethod(p_0=2, funct=function_8b, TOL = 1e-5, MAX_ITER = 200)"
   ]
  },
  {
   "cell_type": "markdown",
   "id": "1aaee8aa-748f-475b-9d71-7da28b0a0142",
   "metadata": {},
   "source": [
    "**(c)** Using $g(x)=\\sqrt{\\frac{e^x}{3}}$ and $g'(x) = \\frac{e^x}{6} \\left(\\frac{e^x}{3}\\right)^{-\\frac{1}{2}}$ and the interval $[0,1]$ we have $k=0.4759448347$ \n",
    "\n",
    "so that with $p_0=1$ we have $n>\\ln (0.00001) / \\ln k=15.50659829$. However, our tolerance is met with $p_{12}=0.91001496$."
   ]
  },
  {
   "cell_type": "code",
   "execution_count": 61,
   "id": "e0d0c341-2b5c-4a84-a7cc-172d4996e4bf",
   "metadata": {
    "tags": []
   },
   "outputs": [
    {
     "data": {
      "text/plain": [
       "0.28867513459481287"
      ]
     },
     "execution_count": 61,
     "metadata": {},
     "output_type": "execute_result"
    }
   ],
   "source": [
    "(np.exp(0)/6)*(np.exp(0)/3)**(-0.5)"
   ]
  },
  {
   "cell_type": "code",
   "execution_count": 62,
   "id": "5f9365a4-880e-4570-8273-f97664de252e",
   "metadata": {
    "tags": []
   },
   "outputs": [
    {
     "data": {
      "text/plain": [
       "0.4759448347286904"
      ]
     },
     "execution_count": 62,
     "metadata": {},
     "output_type": "execute_result"
    }
   ],
   "source": [
    "(np.exp(1)/6)*(np.exp(1)/3)**(-0.5)"
   ]
  },
  {
   "cell_type": "code",
   "execution_count": 64,
   "id": "aafe1255-69ac-4d00-87e8-4e2999896a54",
   "metadata": {
    "tags": []
   },
   "outputs": [
    {
     "data": {
      "text/plain": [
       "15.506598299110486"
      ]
     },
     "execution_count": 64,
     "metadata": {},
     "output_type": "execute_result"
    }
   ],
   "source": [
    "k = (np.exp(1)/6)*(np.exp(1)/3)**(-0.5)\n",
    "np.log(1e-5)/np.log(k)"
   ]
  },
  {
   "cell_type": "code",
   "execution_count": 65,
   "id": "7443c3b2-c05d-4da6-82e1-267fa09e0a29",
   "metadata": {
    "tags": []
   },
   "outputs": [
    {
     "name": "stdout",
     "output_type": "stream",
     "text": [
      "Found solution after 12 iterations.\n"
     ]
    },
    {
     "data": {
      "text/plain": [
       "0.9100149616731992"
      ]
     },
     "execution_count": 65,
     "metadata": {},
     "output_type": "execute_result"
    }
   ],
   "source": [
    "function_8c = lambda x: np.sqrt(np.exp(x)/3)\n",
    "FixedPointMethod(p_0=1, funct=function_8c, TOL = 1e-5, MAX_ITER = 200)"
   ]
  },
  {
   "cell_type": "markdown",
   "id": "6b98a3a8-0cc3-40b8-9677-6fc099a0ebdd",
   "metadata": {},
   "source": [
    "**(d)** Using $g(x)=\\cos x$ and $g'(x)=-\\sin(x)$ and the interval $[0,1]$ we have $k=0.8414709848$ \n",
    "\n",
    "so that with $p_0=0$ we have $n>\\ln (0.00001) / \\ln k>66.70148074$. However, our tolerance is met with $p_{30}=$ 0.73908230 ."
   ]
  },
  {
   "cell_type": "code",
   "execution_count": 66,
   "id": "a2269682-e8d4-485f-8259-f838bcd1779f",
   "metadata": {
    "tags": []
   },
   "outputs": [
    {
     "data": {
      "text/plain": [
       "0.8414709848078965"
      ]
     },
     "execution_count": 66,
     "metadata": {},
     "output_type": "execute_result"
    }
   ],
   "source": [
    "np.sin(1)"
   ]
  },
  {
   "cell_type": "code",
   "execution_count": 67,
   "id": "dff760cb-fa62-46a1-93c8-7ef4ed614f6f",
   "metadata": {
    "tags": []
   },
   "outputs": [
    {
     "data": {
      "text/plain": [
       "66.70148078374507"
      ]
     },
     "execution_count": 67,
     "metadata": {},
     "output_type": "execute_result"
    }
   ],
   "source": [
    "k = np.sin(1)\n",
    "np.log(1e-5)/np.log(k)"
   ]
  },
  {
   "cell_type": "code",
   "execution_count": 68,
   "id": "1bc3970b-3b25-45b8-ba14-d7f5d0c92ca3",
   "metadata": {
    "tags": []
   },
   "outputs": [
    {
     "name": "stdout",
     "output_type": "stream",
     "text": [
      "Found solution after 29 iterations.\n"
     ]
    },
    {
     "data": {
      "text/plain": [
       "0.7390822985224023"
      ]
     },
     "execution_count": 68,
     "metadata": {},
     "output_type": "execute_result"
    }
   ],
   "source": [
    "function_8d = lambda x: np.cos(x)\n",
    "FixedPointMethod(p_0=1, funct=function_8d, TOL = 1e-5, MAX_ITER = 200)"
   ]
  },
  {
   "cell_type": "markdown",
   "id": "4a23ac7c-1f5a-442f-b1b7-415f4df8ef7a",
   "metadata": {
    "tags": []
   },
   "source": [
    "### 9."
   ]
  },
  {
   "cell_type": "code",
   "execution_count": 69,
   "id": "43c7105c-ad65-4c38-837d-d4e194af8495",
   "metadata": {
    "tags": []
   },
   "outputs": [],
   "source": [
    "def NewtonMethod(p_0, funct, Dfunct, TOL = 1e-6, MAX_ITER = 500):\n",
    "    \"\"\"Solve for a function's root f(x) = 0 via Newton's Method.\n",
    "\n",
    "    Args\n",
    "    ----\n",
    "        p_0: Initial value of approximation\n",
    "        funct (function): Function of interest, f(x)\n",
    "        Dfunct : Derivative of f(x)\n",
    "        TOL: Solution tolerance\n",
    "        MAX_ITER: Maximum number of iterations\n",
    "    \n",
    "    Return\n",
    "    -------\n",
    "        p: Root of f(x)=0 given p_0\n",
    "    \"\"\"\n",
    "    ## STEP 1:\n",
    "    p_prev = 0.0    # Keep track of old p-values\n",
    "    soln = 0.0      # Store final solution in this variable\n",
    "\n",
    "    ## STEP 2:\n",
    "    for iters in range(MAX_ITER):   # Iterate until max. iterations are reached.\n",
    "        ## STEP 3:\n",
    "        p = p_0 - funct(p_0)/Dfunct(p_0)             \n",
    "\n",
    "        ## STEP 4:\n",
    "        # Check if tolerance is satisfied\n",
    "        if np.abs(p - p_0) < TOL:\n",
    "            # Break if tolerance is met, return answer!\n",
    "            print('Found solution after', iters+1, 'iterations.')\n",
    "            soln = p\n",
    "            break\n",
    "        \n",
    "        ## STEP 5\n",
    "        p_0 = p\n",
    "\n",
    "        p_prev = p      # Replace old with new\n",
    "    \n",
    "    return p"
   ]
  },
  {
   "cell_type": "code",
   "execution_count": 70,
   "id": "9a505a38-b422-45a6-8498-bb19490f96f4",
   "metadata": {
    "tags": []
   },
   "outputs": [
    {
     "data": {
      "text/plain": [
       "2.607142857142857"
      ]
     },
     "execution_count": 70,
     "metadata": {},
     "output_type": "execute_result"
    }
   ],
   "source": [
    "function_9 = lambda x: x**2 - 6\n",
    "Dfunction_9 =  lambda x: 2*x\n",
    "NewtonMethod(p_0=1, funct=function_9, Dfunct=Dfunction_9, TOL = 1e-6, MAX_ITER = 2)"
   ]
  },
  {
   "cell_type": "markdown",
   "id": "7e793918-29a4-4c0b-bca7-7e90c82d384c",
   "metadata": {},
   "source": [
    "### 10."
   ]
  },
  {
   "cell_type": "code",
   "execution_count": 71,
   "id": "18d8248c-4c0e-48d1-baf4-a4d2672cc424",
   "metadata": {
    "tags": []
   },
   "outputs": [
    {
     "data": {
      "text/plain": [
       "-0.8656841631760818"
      ]
     },
     "execution_count": 71,
     "metadata": {},
     "output_type": "execute_result"
    }
   ],
   "source": [
    "function_10 = lambda x: -x**3 - np.cos(x)\n",
    "Dfunction_10 =  lambda x: -3*x**2 + np.sin(x)\n",
    "NewtonMethod(p_0=-1, funct=function_10, Dfunct=Dfunction_10, TOL = 1e-6, MAX_ITER = 2)"
   ]
  },
  {
   "cell_type": "markdown",
   "id": "1ca1c562-1a18-4e7e-9b0d-b3bd429f3738",
   "metadata": {},
   "source": [
    "### 11."
   ]
  },
  {
   "cell_type": "code",
   "execution_count": 72,
   "id": "c7359104-3f2f-4047-aeb3-fc69a795b2eb",
   "metadata": {
    "tags": []
   },
   "outputs": [],
   "source": [
    "def SecantMethod(p_0, p_1, funct, TOL = 1e-6, MAX_ITER = 500):\n",
    "    \"\"\"Solve for a function's root f(x) = 0 via the Secant Method.\n",
    "\n",
    "    Args\n",
    "    ----\n",
    "        p_0, p_1: Initial value of approximation\n",
    "        funct (function): Function of interest, f(x)\n",
    "        TOL: Solution tolerance\n",
    "        MAX_ITER: Maximum number of iterations\n",
    "    \n",
    "    Return\n",
    "    -------\n",
    "        p: Root of f(x)=0 given p_0, p_1\n",
    "    \"\"\"\n",
    "    ## STEP 1:\n",
    "    soln = 0.0      # Store final solution in this variable\n",
    "    q_0 = funct(p_0)\n",
    "    q_1 = funct(p_1)\n",
    "\n",
    "    ## STEP 2:\n",
    "    for iters in range(1, MAX_ITER):   # Iterate until max. iterations are reached.\n",
    "        ## STEP 3:\n",
    "        p = p_1 - q_1*(p_1 - p_0)/(q_1 - q_0)         \n",
    "\n",
    "        ## STEP 4:\n",
    "        # Check if tolerance is satisfied\n",
    "        if np.abs(p - p_1) < TOL:\n",
    "            # Break if tolerance is met, return answer!\n",
    "            print('Found solution after', iters+1, 'iterations.')\n",
    "            soln = p\n",
    "            break\n",
    "        \n",
    "        ## STEP 5\n",
    "        p_0 = p_1\n",
    "        q_0 = q_1\n",
    "        p_1 = p\n",
    "        q_1 = funct(p)\n",
    "    \n",
    "    return p"
   ]
  },
  {
   "cell_type": "code",
   "execution_count": 73,
   "id": "f2fb0933-a818-4bf4-8a39-6dff571b4900",
   "metadata": {
    "tags": []
   },
   "outputs": [
    {
     "data": {
      "text/plain": [
       "2.4545454545454546"
      ]
     },
     "execution_count": 73,
     "metadata": {},
     "output_type": "execute_result"
    }
   ],
   "source": [
    "function_11 = lambda x: x**2 - 6\n",
    "SecantMethod(p_0=3, p_1=2, funct=function_11, TOL = 1e-6, MAX_ITER = 3)"
   ]
  },
  {
   "cell_type": "code",
   "execution_count": 81,
   "id": "74aa9568-61bf-4c18-979a-123d1fc73d4b",
   "metadata": {
    "tags": []
   },
   "outputs": [],
   "source": [
    "def FalsePositionMethod(p_0, p_1, funct, TOL = 1e-6, MAX_ITER = 500):\n",
    "    \"\"\"Solve for a function's root f(x) = 0 via the False Position Method.\n",
    "\n",
    "    Args\n",
    "    ----\n",
    "        p_0, p_1: Initial value of approximation\n",
    "        funct (function): Function of interest, f(x)\n",
    "        TOL: Solution tolerance\n",
    "        MAX_ITER: Maximum number of iterations\n",
    "    \n",
    "    Return\n",
    "    -------\n",
    "        p: Root of f(x)=0 given p_0, p_1\n",
    "    \"\"\"\n",
    "    ## STEP 1:\n",
    "    soln = 0.0      # Store final solution in this variable\n",
    "    q_0 = funct(p_0)\n",
    "    q_1 = funct(p_1)\n",
    "\n",
    "    ## STEP 2:\n",
    "    for iters in range(1, MAX_ITER):   # Iterate until max. iterations are reached.\n",
    "        ## STEP 3:\n",
    "        p = p_1 - q_1*(p_1 - p_0)/(q_1 - q_0)         \n",
    "\n",
    "        ## STEP 4:\n",
    "        # Check if tolerance is satisfied\n",
    "        if np.abs(p - p_1) <= TOL:\n",
    "            # Break if tolerance is met, return answer!\n",
    "            print('Found solution after', iters+1, 'iterations.')\n",
    "            soln = p\n",
    "            break\n",
    "        \n",
    "        ## STEP 5\n",
    "        q = funct(p)\n",
    "        if (np.sign(q) * np.sign(q_1)) < 0.0:\n",
    "            p_0 = p_1\n",
    "            q_0 = q_1\n",
    "            \n",
    "        ## STEP 6\n",
    "        p_1 = p\n",
    "        q_1 = q\n",
    "    \n",
    "    return p"
   ]
  },
  {
   "cell_type": "code",
   "execution_count": 75,
   "id": "713d4aef-8a8f-44f0-8f84-37aa7cb37d49",
   "metadata": {
    "tags": []
   },
   "outputs": [
    {
     "data": {
      "text/plain": [
       "2.444444444444444"
      ]
     },
     "execution_count": 75,
     "metadata": {},
     "output_type": "execute_result"
    }
   ],
   "source": [
    "function_11 = lambda x: x**2 - 6\n",
    "FalsePositionMethod(p_0=3, p_1=2, funct=function_11, TOL = 1e-6, MAX_ITER = 3)"
   ]
  },
  {
   "cell_type": "code",
   "execution_count": 76,
   "id": "5dc27365-9804-4378-874d-361460d8615d",
   "metadata": {
    "tags": []
   },
   "outputs": [
    {
     "data": {
      "text/plain": [
       "2.449489742783178"
      ]
     },
     "execution_count": 76,
     "metadata": {},
     "output_type": "execute_result"
    }
   ],
   "source": [
    "np.sqrt(6)"
   ]
  },
  {
   "cell_type": "markdown",
   "id": "20feb7bf-8686-428a-bc46-dda1fc423108",
   "metadata": {},
   "source": [
    "Therefore, by using the False Position method we obatin a result which is closer to $\\sqrt{6}$."
   ]
  },
  {
   "cell_type": "markdown",
   "id": "77cc60f5-c51f-41a8-9f86-9afaf73c8616",
   "metadata": {},
   "source": [
    "### 12."
   ]
  },
  {
   "cell_type": "code",
   "execution_count": 77,
   "id": "2f52e3e3-7de7-4bc9-9f8d-dbab423d71c6",
   "metadata": {
    "tags": []
   },
   "outputs": [
    {
     "data": {
      "text/plain": [
       "-1.2520764889092288"
      ]
     },
     "execution_count": 77,
     "metadata": {},
     "output_type": "execute_result"
    }
   ],
   "source": [
    "function_12 = lambda x: -x**3 - np.cos(x)\n",
    "SecantMethod(p_0=-1, p_1=0, funct=function_12, TOL = 1e-6, MAX_ITER = 3)"
   ]
  },
  {
   "cell_type": "code",
   "execution_count": 78,
   "id": "10af3da9-f23c-4d9a-839f-56ba9078098b",
   "metadata": {
    "tags": []
   },
   "outputs": [
    {
     "data": {
      "text/plain": [
       "-0.8413551256656522"
      ]
     },
     "execution_count": 78,
     "metadata": {},
     "output_type": "execute_result"
    }
   ],
   "source": [
    "function_12 = lambda x: -x**3 - np.cos(x)\n",
    "FalsePositionMethod(p_0=-1, p_1=0, funct=function_12, TOL = 1e-6, MAX_ITER = 3)"
   ]
  },
  {
   "cell_type": "markdown",
   "id": "a4077aa6-cda4-4b0a-b5e3-b51b25f57977",
   "metadata": {},
   "source": [
    "### 13."
   ]
  },
  {
   "cell_type": "code",
   "execution_count": 79,
   "id": "b08eb84e-d08e-4f26-964b-5a9a36d7ff1b",
   "metadata": {
    "tags": []
   },
   "outputs": [
    {
     "name": "stdout",
     "output_type": "stream",
     "text": [
      "Found solution after 4 iterations.\n",
      "0.9100075724887091\n",
      "Found solution after 9 iterations.\n",
      "3.7330790286328157\n"
     ]
    }
   ],
   "source": [
    "function_13 = lambda x: np.exp(x) - 3*x**2\n",
    "Dfunction_13 = lambda x: np.exp(x) - 6*x\n",
    "print(NewtonMethod(p_0=1, funct=function_13, Dfunct=Dfunction_13, TOL = 1e-5, MAX_ITER = 200))\n",
    "print(NewtonMethod(p_0=3, funct=function_13, Dfunct=Dfunction_13, TOL = 1e-5, MAX_ITER = 200))"
   ]
  },
  {
   "cell_type": "code",
   "execution_count": 80,
   "id": "bca5a9dc-d14a-47cf-9743-32f7cbaaec9a",
   "metadata": {
    "tags": []
   },
   "outputs": [
    {
     "name": "stdout",
     "output_type": "stream",
     "text": [
      "Found solution after 6 iterations.\n",
      "0.9100075715386231\n",
      "Found solution after 10 iterations.\n",
      "3.7330790313204982\n"
     ]
    }
   ],
   "source": [
    "# We use the endpoints of the intervals as p_0 and p_1\n",
    "function_13 = lambda x: np.exp(x) - 3*x**2\n",
    "print(SecantMethod(p_0=0, p_1=1, funct=function_13, TOL = 1e-5, MAX_ITER = 200))\n",
    "print(SecantMethod(p_0=3, p_1=5, funct=function_13, TOL = 1e-5, MAX_ITER = 200))"
   ]
  },
  {
   "cell_type": "code",
   "execution_count": 82,
   "id": "8eaf7302-76d7-439c-9521-68add25658ef",
   "metadata": {
    "tags": []
   },
   "outputs": [
    {
     "name": "stdout",
     "output_type": "stream",
     "text": [
      "Found solution after 7 iterations.\n",
      "0.9100075295782829\n",
      "Found solution after 29 iterations.\n",
      "3.733065488778267\n"
     ]
    }
   ],
   "source": [
    "# We use the endpoints of the intervals as p_0 and p_1\n",
    "function_13 = lambda x: np.exp(x) - 3*x**2\n",
    "print(FalsePositionMethod(p_0=0, p_1=1, funct=function_13, TOL = 1e-5, MAX_ITER = 200))\n",
    "print(FalsePositionMethod(p_0=3, p_1=5, funct=function_13, TOL = 1e-5, MAX_ITER = 200))"
   ]
  },
  {
   "cell_type": "markdown",
   "id": "9d50ee67-1bff-4e88-8324-3a84b2036d83",
   "metadata": {},
   "source": [
    "## 14."
   ]
  },
  {
   "cell_type": "code",
   "execution_count": 91,
   "id": "be6eb9e9-cbfd-4a9f-8251-a3509a6a7f77",
   "metadata": {
    "tags": []
   },
   "outputs": [
    {
     "name": "stdout",
     "output_type": "stream",
     "text": [
      "Found solution after 17 iterations.\n",
      "-0.04065849904334182\n",
      "Found solution after 9 iterations.\n",
      "0.9623983842387566\n"
     ]
    }
   ],
   "source": [
    "# We use the endpoints of the intervals as p_0 and p_1\n",
    "function_14 = lambda x: 230*x**4 + 18*x**3 + 9*x**2 - 221*x - 9\n",
    "print(FalsePositionMethod(p_0=-1, p_1=0, funct=function_14, TOL = 1e-6, MAX_ITER = 200))\n",
    "print(FalsePositionMethod(p_0=0, p_1=1, funct=function_14, TOL = 1e-6, MAX_ITER = 200))"
   ]
  },
  {
   "cell_type": "code",
   "execution_count": 92,
   "id": "33861a06-55eb-4e16-8e6d-f6eb35468880",
   "metadata": {
    "tags": []
   },
   "outputs": [
    {
     "name": "stdout",
     "output_type": "stream",
     "text": [
      "Found solution after 5 iterations.\n",
      "-0.040659288315725135\n",
      "Found solution after 9 iterations.\n",
      "0.9623984187492832\n"
     ]
    }
   ],
   "source": [
    "# We use the endpoints of the intervals as p_0 and p_1\n",
    "function_14 = lambda x: 230*x**4 + 18*x**3 + 9*x**2 - 221*x - 9\n",
    "print(SecantMethod(p_0=-1, p_1=0, funct=function_14, TOL = 1e-6, MAX_ITER = 200))\n",
    "print(SecantMethod(p_0=0.1, p_1=1, funct=function_14, TOL = 1e-6, MAX_ITER = 200))"
   ]
  },
  {
   "cell_type": "code",
   "execution_count": 94,
   "id": "3e3c4b89-7335-400e-807e-900ea935aeed",
   "metadata": {
    "tags": []
   },
   "outputs": [
    {
     "name": "stdout",
     "output_type": "stream",
     "text": [
      "Found solution after 4 iterations.\n",
      "-0.04065928831575899\n",
      "Found solution after 15 iterations.\n",
      "0.9623984187505416\n"
     ]
    }
   ],
   "source": [
    "# We use the midpoints as the initial approximation p_0\n",
    "function_14 = lambda x: 230*x**4 + 18*x**3 + 9*x**2 - 221*x - 9\n",
    "Dfunction_14 =  lambda x: 920*x**3 + 54*x**2 + 18*x - 221\n",
    "print(NewtonMethod(p_0 = -0.5, funct=function_14, Dfunct=Dfunction_14, TOL = 1e-6, MAX_ITER = 200))\n",
    "print(NewtonMethod(p_0 = 0.6, funct=function_14, Dfunct=Dfunction_14, TOL = 1e-6, MAX_ITER = 200))"
   ]
  },
  {
   "cell_type": "markdown",
   "id": "18b1b255-5ff1-46d6-91b3-e5d5efc05c52",
   "metadata": {},
   "source": [
    "## 15."
   ]
  },
  {
   "cell_type": "markdown",
   "id": "f914a170-4aef-459f-b652-e7f1d9a49a43",
   "metadata": {},
   "source": [
    "The accumulated value of a savings account based on regular periodic payments can be determined from the annuity due equation below:\n",
    "$$\n",
    "A = \\frac{P}{r} [(1+r)^n - 1]\n",
    "$$\n",
    "where:\n",
    "\n",
    "$A$ : is the amount in the account (at any time)\n",
    "\n",
    "$P$ : is the amount regularly deposited (monthly deposit)\n",
    "\n",
    "$r$ : interest rate (if per annum, then  $r = \\frac{r_\\text{(per year)}}{12}$\n",
    "\n",
    "$n$ : number of deposits (the number of month)"
   ]
  },
  {
   "cell_type": "markdown",
   "id": "59525739-3501-4f1a-9f70-401a5f7fbfb0",
   "metadata": {},
   "source": [
    "We obtain then: \n",
    "$$\n",
    "750000 = \\frac{1500 \\times 12}{x} [(1+\\frac{x}{12})^{240} - 1]\n",
    "$$\n",
    "$$\n",
    "\\Longleftrightarrow 18000 [(1+\\frac{x}{12})^{240} - 1] - 750000x = 0\n",
    "$$"
   ]
  },
  {
   "cell_type": "code",
   "execution_count": 95,
   "id": "c1d4a4b1-5c47-440f-ad68-a45d391798ca",
   "metadata": {
    "tags": []
   },
   "outputs": [
    {
     "name": "stdout",
     "output_type": "stream",
     "text": [
      "Found solution after 5 iterations.\n",
      "0.06660938285231917\n"
     ]
    }
   ],
   "source": [
    "function_15 = lambda x: 1500*12*((1+x/12)**240 - 1) - 750000*x\n",
    "Dfunction_15 =  lambda x: 1500*240*(1+x/12)**239 - 750000\n",
    "print(NewtonMethod(p_0 = 0.1, funct=function_15, Dfunct=Dfunction_15, TOL = 1e-6, MAX_ITER = 200))"
   ]
  },
  {
   "cell_type": "code",
   "execution_count": 96,
   "id": "bbfa7fe3-7cb6-4a63-af35-e2c55d1ace43",
   "metadata": {},
   "outputs": [
    {
     "name": "stdout",
     "output_type": "stream",
     "text": [
      "Found solution after 20 iterations.\n"
     ]
    },
    {
     "data": {
      "text/plain": [
       "0.0666097068786621"
      ]
     },
     "execution_count": 96,
     "metadata": {},
     "output_type": "execute_result"
    }
   ],
   "source": [
    "function_15 = lambda x: 1500*12*((1+x/12)**240 - 1) - 750000*x\n",
    "BisectionMethod(a=0.01, b=0.99, funct=function_15, TOL = 1e-6, MAX_ITER = 200)"
   ]
  },
  {
   "cell_type": "code",
   "execution_count": 99,
   "id": "d8f1bbfd-8ad3-4a6d-a0b0-f707af8017a1",
   "metadata": {
    "tags": []
   },
   "outputs": [
    {
     "data": {
      "text/plain": [
       "2.23606797749979j"
      ]
     },
     "execution_count": 99,
     "metadata": {},
     "output_type": "execute_result"
    }
   ],
   "source": [
    "import cmath\n",
    "cmath.sqrt(-5)"
   ]
  },
  {
   "cell_type": "markdown",
   "id": "0abcce69-f652-419f-a08a-30fe04162dff",
   "metadata": {},
   "source": [
    "## 16."
   ]
  },
  {
   "cell_type": "code",
   "execution_count": 100,
   "id": "0c87cb8a-e223-4829-8adb-102a393a9eb3",
   "metadata": {
    "tags": []
   },
   "outputs": [
    {
     "name": "stdout",
     "output_type": "stream",
     "text": [
      "Found solution after 14 iterations.\n"
     ]
    },
    {
     "data": {
      "text/plain": [
       "0.23233032226562503"
      ]
     },
     "execution_count": 100,
     "metadata": {},
     "output_type": "execute_result"
    }
   ],
   "source": [
    "function_16 = lambda x: 600*x**4 - 550*x**3 + 200*x**2 - 20*x - 1\n",
    "BisectionMethod(a=0.1, b=1, funct=function_16, TOL = 1e-4, MAX_ITER = 200)"
   ]
  },
  {
   "cell_type": "code",
   "execution_count": 101,
   "id": "c6b0a6b3-f7eb-4abd-9df1-7cc8423d63dd",
   "metadata": {
    "tags": []
   },
   "outputs": [
    {
     "name": "stdout",
     "output_type": "stream",
     "text": [
      "Found solution after 5 iterations.\n",
      "0.23235296474998476\n"
     ]
    }
   ],
   "source": [
    "function_16 = lambda x: 600*x**4 - 550*x**3 + 200*x**2 - 20*x - 1\n",
    "Dfunction_16 =  lambda x: 600*4*x**3 - 550*3*x**2 + 200*2*x - 20\n",
    "print(NewtonMethod(p_0 = 0.1, funct=function_16, Dfunct=Dfunction_16, TOL = 1e-4, MAX_ITER = 200))"
   ]
  },
  {
   "cell_type": "code",
   "execution_count": 102,
   "id": "a36023fe-6159-4298-8f2a-8d86bc179503",
   "metadata": {
    "tags": []
   },
   "outputs": [
    {
     "name": "stdout",
     "output_type": "stream",
     "text": [
      "Found solution after 5 iterations.\n"
     ]
    },
    {
     "data": {
      "text/plain": [
       "0.23235296513387801"
      ]
     },
     "execution_count": 102,
     "metadata": {},
     "output_type": "execute_result"
    }
   ],
   "source": [
    "# We use the endpoints of the intervals as p_0 and p_1\n",
    "function_16 = lambda x: 600*x**4 - 550*x**3 + 200*x**2 - 20*x - 1\n",
    "SecantMethod(p_0=0.1, p_1=0.2, funct=function_16, TOL = 1e-4, MAX_ITER = 200)"
   ]
  },
  {
   "cell_type": "code",
   "execution_count": 103,
   "id": "0a5b2f4f-c9a0-46da-862c-de3d335672fc",
   "metadata": {
    "tags": []
   },
   "outputs": [
    {
     "name": "stdout",
     "output_type": "stream",
     "text": [
      "Found solution after 5 iterations.\n",
      "0.23235295029184647\n"
     ]
    }
   ],
   "source": [
    "# We use the endpoints of the intervals as p_0 and p_1\n",
    "function_16 = lambda x: 600*x**4 - 550*x**3 + 200*x**2 - 20*x - 1\n",
    "print(FalsePositionMethod(p_0=0.1, p_1=0.2, funct=function_16, TOL = 1e-4, MAX_ITER = 200))"
   ]
  },
  {
   "cell_type": "code",
   "execution_count": 105,
   "id": "841749d9-19b5-4568-ad8b-dc5c9e4cef9b",
   "metadata": {
    "tags": []
   },
   "outputs": [],
   "source": [
    "import cmath\n",
    "def MullersMethod(p_0, p_1, p_2, funct, TOL = 1e-6, MAX_ITER = 500):\n",
    "    \"\"\"Solve for a function's root f(x) = 0 via the Muller's Method.\n",
    "\n",
    "    Args\n",
    "    ----\n",
    "        p_0, p_1, p_2: Initial value of approximations\n",
    "        funct (function): Function of interest, f(x)\n",
    "        TOL: Solution tolerance\n",
    "        MAX_ITER: Maximum number of iterations\n",
    "    \n",
    "    Return\n",
    "    -------\n",
    "        p: Root of f(x)=0 given p_0, p_1 and p_2\n",
    "    \"\"\"\n",
    "    ## STEP 1:\n",
    "    soln = 0.0      # Store final solution in this variable\n",
    "    h_1 = p_1 - p_0\n",
    "    h_2 = p_2 - p_1\n",
    "    delta_1 = (funct(p_1) - funct(p_0))/h_1\n",
    "    delta_2 = (funct(p_2) - funct(p_1))/h_2\n",
    "    d = (delta_2 - delta_1)/(h_2 + h_1)\n",
    "\n",
    "    ## STEP 2:\n",
    "    for iters in range(2, MAX_ITER):   # Iterate until max. iterations are reached.\n",
    "        ## STEP 3:\n",
    "        b = delta_2 + h_2*d\n",
    "        delta = (b**2 - 4*funct(p_2)*d)\n",
    "\n",
    "        D = cmath.sqrt(delta)\n",
    "        \n",
    "        ## STEP 4:\n",
    "        if  np.abs(b-D) < np.abs(b+D) :\n",
    "            E = b + D\n",
    "        else:\n",
    "            E = b - D\n",
    "            \n",
    "        ## STEP 5:\n",
    "        h = -2*funct(p_2)/E\n",
    "        p = p_2 + h\n",
    "\n",
    "        ## STEP 6:\n",
    "        # Check if tolerance is satisfied\n",
    "        if np.abs(h) < TOL:\n",
    "            # Break if tolerance is met, return answer!\n",
    "            print('Found solution after', iters+1, 'iterations.')\n",
    "            soln = p\n",
    "            break\n",
    "        \n",
    "        ## STEP 7\n",
    "        p_0 = p_1\n",
    "        p_1 = p_2\n",
    "        p_2 = p\n",
    "        h_1 = p_1 - p_0\n",
    "        h_2 = p_2 - p_1\n",
    "        delta_1 = (funct(p_1) - funct(p_0))/h_1\n",
    "        delta_2 = (funct(p_2) - funct(p_1))/h_2\n",
    "        d = (delta_2 - delta_1)/(h_2 + h_1)\n",
    "    \n",
    "    return p"
   ]
  },
  {
   "cell_type": "code",
   "execution_count": 106,
   "id": "baff20b2-47be-4a30-b63e-cceee133f2d2",
   "metadata": {
    "tags": []
   },
   "outputs": [
    {
     "name": "stdout",
     "output_type": "stream",
     "text": [
      "Found solution after 6 iterations.\n",
      "(0.23235296475310027+0j)\n"
     ]
    }
   ],
   "source": [
    "function_16 = lambda x: 600*x**4 - 550*x**3 + 200*x**2 - 20*x - 1\n",
    "print(MullersMethod(p_0=0.1, p_1=0.2, p_2=0.5, funct=function_16, TOL = 1e-4, MAX_ITER = 200))"
   ]
  },
  {
   "cell_type": "markdown",
   "id": "ee0d6d0b-5eea-4b2d-b7d2-3b7c99d6deb4",
   "metadata": {},
   "source": [
    "## 17."
   ]
  },
  {
   "cell_type": "markdown",
   "id": "20a812e4-76fd-48c8-af9e-ad69b820a595",
   "metadata": {},
   "source": [
    "### **Muller's method**"
   ]
  },
  {
   "cell_type": "code",
   "execution_count": 111,
   "id": "d103ca27-c8f1-4036-8c42-792467d38a75",
   "metadata": {},
   "outputs": [
    {
     "name": "stdout",
     "output_type": "stream",
     "text": [
      "Found solution after 12 iterations.\n",
      "(-2.4999999999999867+1.3228756555323788j)\n"
     ]
    }
   ],
   "source": [
    "function_17a = lambda x: x**4 + 5*x**3 - 9*x**2 - 85*x - 136\n",
    "print(MullersMethod(p_0=0, p_1=1, p_2=2, funct=function_17a, TOL = 1e-5, MAX_ITER = 200))"
   ]
  },
  {
   "cell_type": "code",
   "execution_count": 112,
   "id": "91484d28-21d0-4d60-8c17-69113fd4518f",
   "metadata": {
    "tags": []
   },
   "outputs": [
    {
     "name": "stdout",
     "output_type": "stream",
     "text": [
      "Found solution after 7 iterations.\n",
      "(4.123105625662525+0j)\n"
     ]
    }
   ],
   "source": [
    "function_17a = lambda x: x**4 + 5*x**3 - 9*x**2 - 85*x - 136\n",
    "print(MullersMethod(p_0=1, p_1=2, p_2=3, funct=function_17a, TOL = 1e-5, MAX_ITER = 200))"
   ]
  },
  {
   "cell_type": "code",
   "execution_count": 113,
   "id": "d6f483ad-5006-4726-864f-b6c574aeac41",
   "metadata": {
    "tags": []
   },
   "outputs": [
    {
     "name": "stdout",
     "output_type": "stream",
     "text": [
      "Found solution after 6 iterations.\n",
      "(-4.123105625702082+0j)\n"
     ]
    }
   ],
   "source": [
    "function_17a = lambda x: x**4 + 5*x**3 - 9*x**2 - 85*x - 136\n",
    "print(MullersMethod(p_0=-3, p_1=-4, p_2=-5, funct=function_17a, TOL = 1e-5, MAX_ITER = 200))"
   ]
  },
  {
   "cell_type": "code",
   "execution_count": 114,
   "id": "f33e3afa-d80b-410f-8f23-efa30a0f8669",
   "metadata": {
    "tags": []
   },
   "outputs": [
    {
     "name": "stdout",
     "output_type": "stream",
     "text": [
      "Found solution after 8 iterations.\n",
      "(2.260085528064257+0j)\n"
     ]
    }
   ],
   "source": [
    "function_17b = lambda x: x**5 + 11*x**4 - 21*x**3 - 10*x**2 - 21*x - 5\n",
    "print(MullersMethod(p_0=0, p_1=1, p_2=2, funct=function_17b, TOL = 1e-5, MAX_ITER = 200))"
   ]
  },
  {
   "cell_type": "code",
   "execution_count": 115,
   "id": "f98b76c8-1601-4802-b011-37a133f15c95",
   "metadata": {
    "tags": []
   },
   "outputs": [
    {
     "name": "stdout",
     "output_type": "stream",
     "text": [
      "Found solution after 15 iterations.\n",
      "(-0.19870953137437178-0.8133125468041899j)\n"
     ]
    }
   ],
   "source": [
    "function_17b = lambda x: x**5 + 11*x**4 - 21*x**3 - 10*x**2 - 21*x - 5\n",
    "print(MullersMethod(p_0=3, p_1=4, p_2=5, funct=function_17b, TOL = 1e-5, MAX_ITER = 200))"
   ]
  },
  {
   "cell_type": "code",
   "execution_count": 116,
   "id": "d3ab8e69-d3a7-4c0e-b15e-207f9c64e123",
   "metadata": {
    "tags": []
   },
   "outputs": [
    {
     "name": "stdout",
     "output_type": "stream",
     "text": [
      "Found solution after 23 iterations.\n",
      "(-0.2502369403251273+4.843827793227768e-16j)\n"
     ]
    }
   ],
   "source": [
    "function_17b = lambda x: x**5 + 11*x**4 - 21*x**3 - 10*x**2 - 21*x - 5\n",
    "print(MullersMethod(p_0=11, p_1=12, p_2=13, funct=function_17b, TOL = 1e-6, MAX_ITER = 200))"
   ]
  },
  {
   "cell_type": "code",
   "execution_count": 117,
   "id": "7c59398e-9179-4bf5-bae6-dd224c2a96c6",
   "metadata": {},
   "outputs": [
    {
     "name": "stdout",
     "output_type": "stream",
     "text": [
      "Found solution after 7 iterations.\n",
      "(-12.612429524958177+0j)\n"
     ]
    }
   ],
   "source": [
    "function_17b = lambda x: x**5 + 11*x**4 - 21*x**3 - 10*x**2 - 21*x - 5\n",
    "print(MullersMethod(p_0=-9, p_1=-10, p_2=-11, funct=function_17b, TOL = 1e-5, MAX_ITER = 200))"
   ]
  },
  {
   "cell_type": "markdown",
   "id": "4ec8acfb-b51f-4a0e-a97e-6fcc1b91d05f",
   "metadata": {},
   "source": [
    "### **Laguerre's method**"
   ]
  },
  {
   "cell_type": "code",
   "execution_count": 123,
   "id": "ca002cd7-3821-41e3-83fa-cb2abd144489",
   "metadata": {
    "tags": []
   },
   "outputs": [],
   "source": [
    "def LaguerresMethod(x_0, n, funct, Dfunct, DDfunct, TOL = 1e-6, MAX_ITER = 500):\n",
    "    \"\"\"Solve for a function's root f(x) = 0 via the Laguerre's Method.\n",
    "\n",
    "    Args\n",
    "    ----\n",
    "        x_0: Initial value of approximation\n",
    "        funct (function): Function of interest, f(x)\n",
    "        Dfunct : First derivative of f(x), i.e. f'(x)\n",
    "        DDfunct : Second derivative of f(x), i.e. f\"(x)\n",
    "        TOL: Solution tolerance\n",
    "        MAX_ITER: Maximum number of iterations\n",
    "    \n",
    "    Return\n",
    "    -------\n",
    "        x: Root of f(x)=0 given x_0\n",
    "    \"\"\"\n",
    "    ## STEP 1:\n",
    "    soln = 0.0      # Store final solution in this variable\n",
    "\n",
    "    ## STEP 2:\n",
    "    for iters in range(MAX_ITER):   # Iterate until max. iterations are reached.\n",
    "        ## STEP 3:\n",
    "        p = funct(x_0)\n",
    "        dp = Dfunct(x_0)\n",
    "        ddp = DDfunct(x_0)\n",
    "\n",
    "        ## STEP 4:\n",
    "        # Check if tolerance is satisfied\n",
    "        if np.abs(p) < TOL:\n",
    "            # Break if tolerance is met, return answer!\n",
    "            print('Found solution after', iters+1, 'iterations.')\n",
    "            soln = x_0\n",
    "            break\n",
    "        \n",
    "        ## STEP 5:\n",
    "        G = dp/p\n",
    "        H = G**2 - ddp/p\n",
    "        F = cmath.sqrt((n-1)*(n*H - G**2))\n",
    "        \n",
    "        ## STEP 6:\n",
    "        if np.abs(G + F) > np.abs(G - F):\n",
    "            a = n / (G + F)\n",
    "        else:\n",
    "            a = n / (G - F)\n",
    "        \n",
    "        ## STEP 7:\n",
    "        x_0 = x_0 - a\n",
    "    \n",
    "        ## STEP 8:\n",
    "        # Check if tolerance is satisfied\n",
    "        if np.abs(a) < TOL:\n",
    "            # Break if tolerance is met, return answer!\n",
    "            print('Found solution after', iters+1, 'iterations.')\n",
    "            soln = x_0\n",
    "            break\n",
    "            \n",
    "    return x_0"
   ]
  },
  {
   "cell_type": "code",
   "execution_count": 124,
   "id": "245dcb8b-8ef9-43a1-a08a-8ace7e973102",
   "metadata": {
    "tags": []
   },
   "outputs": [
    {
     "name": "stdout",
     "output_type": "stream",
     "text": [
      "Found solution after 6 iterations.\n",
      "(-2.500000000000064-1.3228756555315768j)\n"
     ]
    }
   ],
   "source": [
    "function_17a = lambda x: x**4 + 5*x**3 - 9*x**2 - 85*x - 136\n",
    "Dfunction_17a = lambda x: 4*x**3 + 15*x**2 - 18*x - 85\n",
    "DDfunction_17a = lambda x: 12*x**2 + 30*x - 18\n",
    "print(LaguerresMethod(x_0=2, n=4, funct=function_17a, Dfunct=Dfunction_17a, DDfunct=DDfunction_17a, TOL = 1e-5, MAX_ITER = 200))"
   ]
  },
  {
   "cell_type": "code",
   "execution_count": 125,
   "id": "e23d89a6-eced-4ddc-999c-c61fb324c4a7",
   "metadata": {
    "tags": []
   },
   "outputs": [
    {
     "name": "stdout",
     "output_type": "stream",
     "text": [
      "Found solution after 3 iterations.\n",
      "(4.123105625614705+0j)\n"
     ]
    }
   ],
   "source": [
    "function_17a = lambda x: x**4 + 5*x**3 - 9*x**2 - 85*x - 136\n",
    "Dfunction_17a = lambda x: 4*x**3 + 15*x**2 - 18*x - 85\n",
    "DDfunction_17a = lambda x: 12*x**2 + 30*x - 18\n",
    "print(LaguerresMethod(x_0=3, n=4, funct=function_17a, Dfunct=Dfunction_17a, DDfunct=DDfunction_17a, TOL = 1e-5, MAX_ITER = 200))"
   ]
  },
  {
   "cell_type": "code",
   "execution_count": 126,
   "id": "1f81b1d6-0185-42fd-9505-e1fbd292c6c3",
   "metadata": {
    "tags": []
   },
   "outputs": [
    {
     "name": "stdout",
     "output_type": "stream",
     "text": [
      "Found solution after 3 iterations.\n",
      "(-4.123105749353166+0j)\n"
     ]
    }
   ],
   "source": [
    "function_17a = lambda x: x**4 + 5*x**3 - 9*x**2 - 85*x - 136\n",
    "Dfunction_17a = lambda x: 4*x**3 + 15*x**2 - 18*x - 85\n",
    "DDfunction_17a = lambda x: 12*x**2 + 30*x - 18\n",
    "print(LaguerresMethod(x_0=-5, n=4, funct=function_17a, Dfunct=Dfunction_17a, DDfunct=DDfunction_17a, TOL = 1e-5, MAX_ITER = 200))"
   ]
  },
  {
   "cell_type": "code",
   "execution_count": 127,
   "id": "f4d347b7-9e89-4d49-9882-8364f9160fe1",
   "metadata": {
    "tags": []
   },
   "outputs": [
    {
     "name": "stdout",
     "output_type": "stream",
     "text": [
      "Found solution after 3 iterations.\n",
      "(2.2600855280643994+0j)\n"
     ]
    }
   ],
   "source": [
    "function_17b = lambda x: x**5 + 11*x**4 - 21*x**3 - 10*x**2 - 21*x - 5\n",
    "Dfunction_17b = lambda x: 5*x**4 + 44*x**3 - 63*x**2 - 20*x - 21\n",
    "DDfunction_17b = lambda x: 20*x**3 + 132*x**2 - 126*x - 20\n",
    "print(LaguerresMethod(x_0=2, n=5, funct=function_17b, Dfunct=Dfunction_17b, DDfunct=DDfunction_17b, TOL = 1e-5, MAX_ITER = 200))"
   ]
  },
  {
   "cell_type": "code",
   "execution_count": 128,
   "id": "3294f9bd-3c34-41de-ac7c-c86da781e99b",
   "metadata": {
    "tags": []
   },
   "outputs": [
    {
     "name": "stdout",
     "output_type": "stream",
     "text": [
      "Found solution after 3 iterations.\n",
      "(2.260085536460289+0j)\n"
     ]
    }
   ],
   "source": [
    "function_17b = lambda x: x**5 + 11*x**4 - 21*x**3 - 10*x**2 - 21*x - 5\n",
    "Dfunction_17b = lambda x: 5*x**4 + 44*x**3 - 63*x**2 - 20*x - 21\n",
    "DDfunction_17b = lambda x: 20*x**3 + 132*x**2 - 126*x - 20\n",
    "print(LaguerresMethod(x_0=3, n=5, funct=function_17b, Dfunct=Dfunction_17b, DDfunct=DDfunction_17b, TOL = 1e-5, MAX_ITER = 200))"
   ]
  },
  {
   "cell_type": "code",
   "execution_count": 129,
   "id": "423acee5-3307-46c4-aff2-072c877634ae",
   "metadata": {
    "tags": []
   },
   "outputs": [
    {
     "name": "stdout",
     "output_type": "stream",
     "text": [
      "Found solution after 4 iterations.\n",
      "(2.2600855280656273+0j)\n"
     ]
    }
   ],
   "source": [
    "function_17b = lambda x: x**5 + 11*x**4 - 21*x**3 - 10*x**2 - 21*x - 5\n",
    "Dfunction_17b = lambda x: 5*x**4 + 44*x**3 - 63*x**2 - 20*x - 21\n",
    "DDfunction_17b = lambda x: 20*x**3 + 132*x**2 - 126*x - 20\n",
    "print(LaguerresMethod(x_0=13, n=5, funct=function_17b, Dfunct=Dfunction_17b, DDfunct=DDfunction_17b, TOL = 1e-5, MAX_ITER = 200))"
   ]
  },
  {
   "cell_type": "code",
   "execution_count": 130,
   "id": "23fceddb-2e9e-43d6-b249-20d649f1dd5f",
   "metadata": {
    "tags": []
   },
   "outputs": [
    {
     "name": "stdout",
     "output_type": "stream",
     "text": [
      "Found solution after 3 iterations.\n",
      "(-12.612429524931525+0j)\n"
     ]
    }
   ],
   "source": [
    "function_17b = lambda x: x**5 + 11*x**4 - 21*x**3 - 10*x**2 - 21*x - 5\n",
    "Dfunction_17b = lambda x: 5*x**4 + 44*x**3 - 63*x**2 - 20*x - 21\n",
    "DDfunction_17b = lambda x: 20*x**3 + 132*x**2 - 126*x - 20\n",
    "print(LaguerresMethod(x_0=-11, n=5, funct=function_17b, Dfunct=Dfunction_17b, DDfunct=DDfunction_17b, TOL = 1e-5, MAX_ITER = 200))"
   ]
  },
  {
   "cell_type": "markdown",
   "id": "a78882d4-ec3a-496d-a567-d84619229577",
   "metadata": {},
   "source": [
    "### **Laguerre's method (via polynomial computation)**"
   ]
  },
  {
   "cell_type": "code",
   "execution_count": 119,
   "id": "142c5370-478d-43e8-8b1d-669cc3744205",
   "metadata": {
    "tags": []
   },
   "outputs": [],
   "source": [
    "def compute_polynomial(list_coeff, x):\n",
    "    # Initialize result\n",
    "    p = list_coeff[0]\n",
    "    dp = 0\n",
    "    ddp = 0\n",
    "    n = len(list_coeff)\n",
    " \n",
    "    # Evaluate value of polynomial\n",
    "    for i in range(1, n):\n",
    "        ddp = 2*dp + ddp*x\n",
    "        dp = p + dp*x\n",
    "        p = p*x + list_coeff[i]\n",
    " \n",
    "    return p, dp, ddp"
   ]
  },
  {
   "cell_type": "code",
   "execution_count": 108,
   "id": "d9714a82-d679-44eb-8348-6e0ab0b356a6",
   "metadata": {
    "tags": []
   },
   "outputs": [
    {
     "name": "stdout",
     "output_type": "stream",
     "text": [
      "-45 -55 6\n",
      "(-45, -55, 6)\n"
     ]
    }
   ],
   "source": [
    "## TEST ##\n",
    "function_17b = lambda x: x**5 + 11*x**4 - 21*x**3 - 10*x**2 - 21*x - 5\n",
    "Dfunction_17b = lambda x: 5*x**4 + 44*x**3 - 63*x**2 - 20*x - 21\n",
    "DDfunction_17b = lambda x: 20*x**3 + 132*x**2 - 126*x - 20\n",
    "print(function_17b(1), Dfunction_17b(1), DDfunction_17b(1))\n",
    "print(compute_polynomial(list_coeff=[1, 11, -21, -10, -21, -5], x=1))"
   ]
  },
  {
   "cell_type": "code",
   "execution_count": 120,
   "id": "e23faed0-fd03-4034-9acd-a40f4da80561",
   "metadata": {
    "tags": []
   },
   "outputs": [],
   "source": [
    "def LaguerresMethod_(list_coeff, x_0, TOL = 1e-6, MAX_ITER = 500):\n",
    "    \"\"\"Solve for a function's root f(x) = 0 via the Laguerre's Method.\n",
    "\n",
    "    Args\n",
    "    ----\n",
    "        list_coeff: list of coefficients of polynomial\n",
    "        x_0: Initial value of approximation\n",
    "        TOL: Solution tolerance\n",
    "        MAX_ITER: Maximum number of iterations\n",
    "    \n",
    "    Return\n",
    "    -------\n",
    "        x: Root of f(x)=0 given x_0\n",
    "    \"\"\"\n",
    "    ## STEP 1:\n",
    "    soln = 0.0      # Store final solution in this variable\n",
    "\n",
    "    ## STEP 2:\n",
    "    for iters in range(MAX_ITER):   # Iterate until max. iterations are reached.\n",
    "        ## STEP 3:\n",
    "        p, dp, ddp = compute_polynomial(list_coeff, x_0)\n",
    "\n",
    "        ## STEP 4:\n",
    "        # Check if tolerance is satisfied\n",
    "        if np.abs(p) < TOL:\n",
    "            # Break if tolerance is met, return answer!\n",
    "            print('Found solution after', iters+1, 'iterations.')\n",
    "            soln = x_0\n",
    "            break\n",
    "        \n",
    "        ## STEP 5:\n",
    "        G = dp/p\n",
    "        H = G**2 - ddp/p\n",
    "        F = cmath.sqrt((n-1)*(n*H - G**2))\n",
    "        \n",
    "        ## STEP 6:\n",
    "        if np.abs(G + F) > np.abs(G - F):\n",
    "            a = n / (G + F)\n",
    "        else:\n",
    "            a = n / (G - F)\n",
    "        \n",
    "        ## STEP 7:\n",
    "        x_0 = x_0 - a\n",
    "    \n",
    "        ## STEP 8:\n",
    "        # Check if tolerance is satisfied\n",
    "        if np.abs(a) < TOL:\n",
    "            # Break if tolerance is met, return answer!\n",
    "            print('Found solution after', iters+1, 'iterations.')\n",
    "            soln = x_0\n",
    "            break\n",
    "            \n",
    "    return x_0"
   ]
  },
  {
   "cell_type": "code",
   "execution_count": 121,
   "id": "27b170f8-b84c-4fe6-aaed-c09932d8c483",
   "metadata": {
    "tags": []
   },
   "outputs": [
    {
     "name": "stdout",
     "output_type": "stream",
     "text": [
      "Found solution after 6 iterations.\n"
     ]
    },
    {
     "data": {
      "text/plain": [
       "(-2.5000000000000635-1.3228756555315768j)"
      ]
     },
     "execution_count": 121,
     "metadata": {},
     "output_type": "execute_result"
    }
   ],
   "source": [
    "list_coeff_17a = [1, 5, -9, -85, -136]\n",
    "LaguerresMethod_(list_coeff=list_coeff_17a, x_0=2, TOL = 1e-6, MAX_ITER = 500)"
   ]
  },
  {
   "cell_type": "code",
   "execution_count": 122,
   "id": "6c90ff8a-531d-4807-8609-e0bfd3621329",
   "metadata": {
    "tags": []
   },
   "outputs": [
    {
     "name": "stdout",
     "output_type": "stream",
     "text": [
      "Found solution after 3 iterations.\n"
     ]
    },
    {
     "data": {
      "text/plain": [
       "(2.2600855280486605+0j)"
      ]
     },
     "execution_count": 122,
     "metadata": {},
     "output_type": "execute_result"
    }
   ],
   "source": [
    "list_coeff_17b = [1, 11, -21, -10, -21, -5]\n",
    "LaguerresMethod_(list_coeff = list_coeff_17b, x_0 = 2, TOL = 1e-6, MAX_ITER = 500)"
   ]
  },
  {
   "cell_type": "code",
   "execution_count": null,
   "id": "06d31a96-8e00-461b-b36d-b2367faa7422",
   "metadata": {},
   "outputs": [],
   "source": []
  }
 ],
 "metadata": {
  "kernelspec": {
   "display_name": "Python 3 (ipykernel)",
   "language": "python",
   "name": "python3"
  },
  "language_info": {
   "codemirror_mode": {
    "name": "ipython",
    "version": 3
   },
   "file_extension": ".py",
   "mimetype": "text/x-python",
   "name": "python",
   "nbconvert_exporter": "python",
   "pygments_lexer": "ipython3",
   "version": "3.10.9"
  }
 },
 "nbformat": 4,
 "nbformat_minor": 5
}
