{
 "cells": [
  {
   "cell_type": "code",
   "execution_count": 7,
   "id": "4a1080cd",
   "metadata": {},
   "outputs": [],
   "source": [
    "import numpy as np"
   ]
  },
  {
   "cell_type": "markdown",
   "id": "8fef8687",
   "metadata": {},
   "source": [
    "# Bisection Method"
   ]
  },
  {
   "cell_type": "code",
   "execution_count": 1,
   "id": "52b1e259-b833-4509-b496-ecfc88974f10",
   "metadata": {
    "tags": []
   },
   "outputs": [],
   "source": [
    "def BisectionMethod(a, b, funct, TOL = 1e-6, MAX_ITER = 500):\n",
    "    \"\"\"Solve for a function's root via the Bisection Method.\n",
    "\n",
    "    Args\n",
    "    ----\n",
    "        a: Initial left boundary point\n",
    "        b: Initial right boundary point\n",
    "        funct (function): Function of interest, f(x)\n",
    "        TOL: Solution tolerance\n",
    "        MAX_ITER: Maximum number of iterations\n",
    "    \n",
    "    Return\n",
    "    -------\n",
    "        p: Root of f(x) within [a, b]\n",
    "    \"\"\"\n",
    "    ## STEP 1:\n",
    "    soln = 0.0      # Store final solution in this variable\n",
    "    f_a = funct(a)  # Evaluate left point\n",
    "    ## STEP 2:\n",
    "    for iters in range(MAX_ITER):   # Iterate until max. iterations are reached.\n",
    "        ## STEP 3:\n",
    "        p = a + ((b - a) / 2.0)     # Determine center of the interval, p\n",
    "        f_p = funct(p)              # Evaluate midpoint\n",
    "\n",
    "        ## STEP 4:\n",
    "        # Check if tolerance is satisfied\n",
    "        if f_p == 0.0 or (b - a) / 2 < TOL:\n",
    "            # Break if tolerance is met, return answer!\n",
    "            print('Found solution after', iters+1, 'iterations.')\n",
    "            soln = p\n",
    "            break\n",
    "        \n",
    "        ## STEP 5\n",
    "        # Determine new bounds depending on the values of f(a) and f(p)\n",
    "        if (np.sign(f_a) * np.sign(f_p)) > 0.0:\n",
    "            a = p       # If positive, move to the left\n",
    "            f_a = f_p\n",
    "        else:\n",
    "            b = p       # Otherwise (if negative), move to the right\n",
    "    \n",
    "    return p"
   ]
  },
  {
   "cell_type": "markdown",
   "id": "79c84d3d-b06c-4c71-9706-2cfb34e04b90",
   "metadata": {},
   "source": [
    "Use the Bisection method to find $p_{3}$ for $f(x)=\\sqrt{x}−cosx$ on $[0,1].$"
   ]
  },
  {
   "cell_type": "code",
   "execution_count": 5,
   "id": "509d3ea0-93db-4c46-a733-3f39b305d0ee",
   "metadata": {
    "tags": []
   },
   "outputs": [],
   "source": [
    "def fun_3(x):\n",
    "    return np.sqrt(x) - np.cos(x)"
   ]
  },
  {
   "cell_type": "code",
   "execution_count": 9,
   "id": "14e972e3-bbe9-4a1c-8951-4c6aa27c19dc",
   "metadata": {
    "tags": []
   },
   "outputs": [
    {
     "data": {
      "text/plain": [
       "0.625"
      ]
     },
     "execution_count": 9,
     "metadata": {},
     "output_type": "execute_result"
    }
   ],
   "source": [
    "BisectionMethod(a=0, b=1, funct=fun_3, TOL = 1e-6, MAX_ITER = 3)"
   ]
  },
  {
   "cell_type": "code",
   "execution_count": 10,
   "id": "e505da1a",
   "metadata": {},
   "outputs": [],
   "source": [
    "def fun_4(x):\n",
    "    return x**3 + 2*x - 2"
   ]
  },
  {
   "cell_type": "code",
   "execution_count": 19,
   "id": "2521c8b3",
   "metadata": {},
   "outputs": [
    {
     "name": "stdout",
     "output_type": "stream",
     "text": [
      "Found solution after 20 iterations.\n"
     ]
    },
    {
     "data": {
      "text/plain": [
       "0.7709169387817383"
      ]
     },
     "execution_count": 19,
     "metadata": {},
     "output_type": "execute_result"
    }
   ],
   "source": [
    "BisectionMethod(a=0, b=1, funct=fun_4, TOL = 1e-6, MAX_ITER = 30)"
   ]
  },
  {
   "cell_type": "code",
   "execution_count": null,
   "id": "8719d3ca",
   "metadata": {},
   "outputs": [],
   "source": []
  }
 ],
 "metadata": {
  "kernelspec": {
   "display_name": "Python 3 (ipykernel)",
   "language": "python",
   "name": "python3"
  },
  "language_info": {
   "codemirror_mode": {
    "name": "ipython",
    "version": 3
   },
   "file_extension": ".py",
   "mimetype": "text/x-python",
   "name": "python",
   "nbconvert_exporter": "python",
   "pygments_lexer": "ipython3",
   "version": "3.9.7"
  }
 },
 "nbformat": 4,
 "nbformat_minor": 5
}
