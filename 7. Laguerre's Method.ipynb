{
 "cells": [
  {
   "cell_type": "code",
   "execution_count": 1,
   "id": "75f20ed2",
   "metadata": {},
   "outputs": [],
   "source": [
    "import numpy as np \n",
    "import cmath"
   ]
  },
  {
   "cell_type": "markdown",
   "id": "4ec8acfb-b51f-4a0e-a97e-6fcc1b91d05f",
   "metadata": {},
   "source": [
    "## **Laguerre's method**"
   ]
  },
  {
   "cell_type": "code",
   "execution_count": 2,
   "id": "ca002cd7-3821-41e3-83fa-cb2abd144489",
   "metadata": {
    "tags": []
   },
   "outputs": [],
   "source": [
    "def LaguerresMethod(x_0, n, funct, Dfunct, DDfunct, TOL = 1e-6, MAX_ITER = 500):\n",
    "    \"\"\"Solve for a function's root f(x) = 0 via the Laguerre's Method.\n",
    "\n",
    "    Args\n",
    "    ----\n",
    "        x_0: Initial value of approximation\n",
    "        funct (function): Function of interest, f(x)\n",
    "        Dfunct : First derivative of f(x), i.e. f'(x)\n",
    "        DDfunct : Second derivative of f(x), i.e. f\"(x)\n",
    "        TOL: Solution tolerance\n",
    "        MAX_ITER: Maximum number of iterations\n",
    "    \n",
    "    Return\n",
    "    -------\n",
    "        x: Root of f(x)=0 given x_0\n",
    "    \"\"\"\n",
    "    ## STEP 1:\n",
    "    soln = 0.0      # Store final solution in this variable\n",
    "\n",
    "    ## STEP 2:\n",
    "    for iters in range(MAX_ITER):   # Iterate until max. iterations are reached.\n",
    "        ## STEP 3:\n",
    "        p = funct(x_0)\n",
    "        dp = Dfunct(x_0)\n",
    "        ddp = DDfunct(x_0)\n",
    "\n",
    "        ## STEP 4:\n",
    "        # Check if tolerance is satisfied\n",
    "        if np.abs(p) < TOL:\n",
    "            # Break if tolerance is met, return answer!\n",
    "            print('Found solution after', iters+1, 'iterations.')\n",
    "            soln = x_0\n",
    "            break\n",
    "        \n",
    "        ## STEP 5:\n",
    "        G = dp/p\n",
    "        H = G**2 - ddp/p\n",
    "        F = cmath.sqrt((n-1)*(n*H - G**2))\n",
    "        \n",
    "        ## STEP 6:\n",
    "        if np.abs(G + F) > np.abs(G - F):\n",
    "            a = n / (G + F)\n",
    "        else:\n",
    "            a = n / (G - F)\n",
    "        \n",
    "        ## STEP 7:\n",
    "        x_0 = x_0 - a\n",
    "    \n",
    "        ## STEP 8:\n",
    "        # Check if tolerance is satisfied\n",
    "        if np.abs(a) < TOL:\n",
    "            # Break if tolerance is met, return answer!\n",
    "            print('Found solution after', iters+1, 'iterations.')\n",
    "            soln = x_0\n",
    "            break\n",
    "            \n",
    "    return x_0"
   ]
  },
  {
   "cell_type": "markdown",
   "id": "7cf04185",
   "metadata": {},
   "source": [
    "17. Find approximations to within 10−5 to all the zeros of each of the following polynomials \n",
    "\n",
    "$(a).\\ \\ x^4 +5x^3 −9x^2 −85x−136$\n",
    "\n",
    "$(b).\\ \\ x^5 +11x^4 −21x^3 −10x^2 −21x−5$\n",
    "\n",
    "using Müller’s method and Lagurre’s method."
   ]
  },
  {
   "cell_type": "code",
   "execution_count": 3,
   "id": "245dcb8b-8ef9-43a1-a08a-8ace7e973102",
   "metadata": {
    "tags": []
   },
   "outputs": [
    {
     "name": "stdout",
     "output_type": "stream",
     "text": [
      "Found solution after 6 iterations.\n",
      "(-2.500000000000064-1.3228756555315768j)\n"
     ]
    }
   ],
   "source": [
    "function_17a = lambda x: x**4 + 5*x**3 - 9*x**2 - 85*x - 136\n",
    "Dfunction_17a = lambda x: 4*x**3 + 15*x**2 - 18*x - 85\n",
    "DDfunction_17a = lambda x: 12*x**2 + 30*x - 18\n",
    "print(LaguerresMethod(x_0=2, n=4, funct=function_17a, Dfunct=Dfunction_17a, DDfunct=DDfunction_17a, TOL = 1e-5, MAX_ITER = 200))"
   ]
  },
  {
   "cell_type": "code",
   "execution_count": 4,
   "id": "e23d89a6-eced-4ddc-999c-c61fb324c4a7",
   "metadata": {
    "tags": []
   },
   "outputs": [
    {
     "name": "stdout",
     "output_type": "stream",
     "text": [
      "Found solution after 3 iterations.\n",
      "(4.123105625614705+0j)\n"
     ]
    }
   ],
   "source": [
    "function_17a = lambda x: x**4 + 5*x**3 - 9*x**2 - 85*x - 136\n",
    "Dfunction_17a = lambda x: 4*x**3 + 15*x**2 - 18*x - 85\n",
    "DDfunction_17a = lambda x: 12*x**2 + 30*x - 18\n",
    "print(LaguerresMethod(x_0=3, n=4, funct=function_17a, Dfunct=Dfunction_17a, DDfunct=DDfunction_17a, TOL = 1e-5, MAX_ITER = 200))"
   ]
  },
  {
   "cell_type": "code",
   "execution_count": 5,
   "id": "1f81b1d6-0185-42fd-9505-e1fbd292c6c3",
   "metadata": {
    "tags": []
   },
   "outputs": [
    {
     "name": "stdout",
     "output_type": "stream",
     "text": [
      "Found solution after 3 iterations.\n",
      "(-4.123105749353166+0j)\n"
     ]
    }
   ],
   "source": [
    "function_17a = lambda x: x**4 + 5*x**3 - 9*x**2 - 85*x - 136\n",
    "Dfunction_17a = lambda x: 4*x**3 + 15*x**2 - 18*x - 85\n",
    "DDfunction_17a = lambda x: 12*x**2 + 30*x - 18\n",
    "print(LaguerresMethod(x_0=-5, n=4, funct=function_17a, Dfunct=Dfunction_17a, DDfunct=DDfunction_17a, TOL = 1e-5, MAX_ITER = 200))"
   ]
  },
  {
   "cell_type": "code",
   "execution_count": 6,
   "id": "f4d347b7-9e89-4d49-9882-8364f9160fe1",
   "metadata": {
    "tags": []
   },
   "outputs": [
    {
     "name": "stdout",
     "output_type": "stream",
     "text": [
      "Found solution after 3 iterations.\n",
      "(2.2600855280643994+0j)\n"
     ]
    }
   ],
   "source": [
    "function_17b = lambda x: x**5 + 11*x**4 - 21*x**3 - 10*x**2 - 21*x - 5\n",
    "Dfunction_17b = lambda x: 5*x**4 + 44*x**3 - 63*x**2 - 20*x - 21\n",
    "DDfunction_17b = lambda x: 20*x**3 + 132*x**2 - 126*x - 20\n",
    "print(LaguerresMethod(x_0=2, n=5, funct=function_17b, Dfunct=Dfunction_17b, DDfunct=DDfunction_17b, TOL = 1e-5, MAX_ITER = 200))"
   ]
  },
  {
   "cell_type": "code",
   "execution_count": 7,
   "id": "3294f9bd-3c34-41de-ac7c-c86da781e99b",
   "metadata": {
    "tags": []
   },
   "outputs": [
    {
     "name": "stdout",
     "output_type": "stream",
     "text": [
      "Found solution after 3 iterations.\n",
      "(2.260085536460289+0j)\n"
     ]
    }
   ],
   "source": [
    "function_17b = lambda x: x**5 + 11*x**4 - 21*x**3 - 10*x**2 - 21*x - 5\n",
    "Dfunction_17b = lambda x: 5*x**4 + 44*x**3 - 63*x**2 - 20*x - 21\n",
    "DDfunction_17b = lambda x: 20*x**3 + 132*x**2 - 126*x - 20\n",
    "print(LaguerresMethod(x_0=3, n=5, funct=function_17b, Dfunct=Dfunction_17b, DDfunct=DDfunction_17b, TOL = 1e-5, MAX_ITER = 200))"
   ]
  },
  {
   "cell_type": "code",
   "execution_count": 8,
   "id": "423acee5-3307-46c4-aff2-072c877634ae",
   "metadata": {
    "tags": []
   },
   "outputs": [
    {
     "name": "stdout",
     "output_type": "stream",
     "text": [
      "Found solution after 4 iterations.\n",
      "(2.2600855280656273+0j)\n"
     ]
    }
   ],
   "source": [
    "function_17b = lambda x: x**5 + 11*x**4 - 21*x**3 - 10*x**2 - 21*x - 5\n",
    "Dfunction_17b = lambda x: 5*x**4 + 44*x**3 - 63*x**2 - 20*x - 21\n",
    "DDfunction_17b = lambda x: 20*x**3 + 132*x**2 - 126*x - 20\n",
    "print(LaguerresMethod(x_0=13, n=5, funct=function_17b, Dfunct=Dfunction_17b, DDfunct=DDfunction_17b, TOL = 1e-5, MAX_ITER = 200))"
   ]
  },
  {
   "cell_type": "code",
   "execution_count": 9,
   "id": "23fceddb-2e9e-43d6-b249-20d649f1dd5f",
   "metadata": {
    "tags": []
   },
   "outputs": [
    {
     "name": "stdout",
     "output_type": "stream",
     "text": [
      "Found solution after 3 iterations.\n",
      "(-12.612429524931525+0j)\n"
     ]
    }
   ],
   "source": [
    "function_17b = lambda x: x**5 + 11*x**4 - 21*x**3 - 10*x**2 - 21*x - 5\n",
    "Dfunction_17b = lambda x: 5*x**4 + 44*x**3 - 63*x**2 - 20*x - 21\n",
    "DDfunction_17b = lambda x: 20*x**3 + 132*x**2 - 126*x - 20\n",
    "print(LaguerresMethod(x_0=-11, n=5, funct=function_17b, Dfunct=Dfunction_17b, DDfunct=DDfunction_17b, TOL = 1e-5, MAX_ITER = 200))"
   ]
  },
  {
   "cell_type": "markdown",
   "id": "a78882d4-ec3a-496d-a567-d84619229577",
   "metadata": {},
   "source": [
    "# **Laguerre's method (via polynomial computation)**"
   ]
  },
  {
   "cell_type": "code",
   "execution_count": 10,
   "id": "142c5370-478d-43e8-8b1d-669cc3744205",
   "metadata": {
    "tags": []
   },
   "outputs": [],
   "source": [
    "def compute_polynomial(list_coeff, x):\n",
    "    # Initialize result\n",
    "    p = list_coeff[0]\n",
    "    dp = 0\n",
    "    ddp = 0\n",
    "    n = len(list_coeff)\n",
    " \n",
    "    # Evaluate value of polynomial\n",
    "    for i in range(1, n):\n",
    "        ddp = 2*dp + ddp*x\n",
    "        dp = p + dp*x\n",
    "        p = p*x + list_coeff[i]\n",
    " \n",
    "    return p, dp, ddp"
   ]
  },
  {
   "cell_type": "code",
   "execution_count": 11,
   "id": "d9714a82-d679-44eb-8348-6e0ab0b356a6",
   "metadata": {
    "tags": []
   },
   "outputs": [
    {
     "name": "stdout",
     "output_type": "stream",
     "text": [
      "-45 -55 6\n",
      "(-45, -55, 6)\n"
     ]
    }
   ],
   "source": [
    "## TEST ##\n",
    "function_17b = lambda x: x**5 + 11*x**4 - 21*x**3 - 10*x**2 - 21*x - 5\n",
    "Dfunction_17b = lambda x: 5*x**4 + 44*x**3 - 63*x**2 - 20*x - 21\n",
    "DDfunction_17b = lambda x: 20*x**3 + 132*x**2 - 126*x - 20\n",
    "print(function_17b(1), Dfunction_17b(1), DDfunction_17b(1))\n",
    "print(compute_polynomial(list_coeff=[1, 11, -21, -10, -21, -5], x=1))"
   ]
  },
  {
   "cell_type": "code",
   "execution_count": 12,
   "id": "e23faed0-fd03-4034-9acd-a40f4da80561",
   "metadata": {
    "tags": []
   },
   "outputs": [],
   "source": [
    "def LaguerresMethod_(list_coeff, x_0, TOL = 1e-6, MAX_ITER = 500):\n",
    "    \"\"\"Solve for a function's root f(x) = 0 via the Laguerre's Method.\n",
    "\n",
    "    Args\n",
    "    ----\n",
    "        list_coeff: list of coefficients of polynomial\n",
    "        x_0: Initial value of approximation\n",
    "        TOL: Solution tolerance\n",
    "        MAX_ITER: Maximum number of iterations\n",
    "    \n",
    "    Return\n",
    "    -------\n",
    "        x: Root of f(x)=0 given x_0\n",
    "    \"\"\"\n",
    "    ## STEP 1:\n",
    "    soln = 0.0      # Store final solution in this variable\n",
    "    n = len(list_coeff)\n",
    "\n",
    "    ## STEP 2:\n",
    "    for iters in range(MAX_ITER):   # Iterate until max. iterations are reached.\n",
    "        ## STEP 3:\n",
    "        p, dp, ddp = compute_polynomial(list_coeff, x_0)\n",
    "\n",
    "        ## STEP 4:\n",
    "        # Check if tolerance is satisfied\n",
    "        if np.abs(p) < TOL:\n",
    "            # Break if tolerance is met, return answer!\n",
    "            print('Found solution after', iters+1, 'iterations.')\n",
    "            soln = x_0\n",
    "            break\n",
    "        \n",
    "        ## STEP 5:\n",
    "        G = dp/p\n",
    "        H = G**2 - ddp/p\n",
    "        F = cmath.sqrt((n-1)*(n*H - G**2))\n",
    "        \n",
    "        ## STEP 6:\n",
    "        if np.abs(G + F) > np.abs(G - F):\n",
    "            a = n / (G + F)\n",
    "        else:\n",
    "            a = n / (G - F)\n",
    "        \n",
    "        ## STEP 7:\n",
    "        x_0 = x_0 - a\n",
    "    \n",
    "        ## STEP 8:\n",
    "        # Check if tolerance is satisfied\n",
    "        if np.abs(a) < TOL:\n",
    "            # Break if tolerance is met, return answer!\n",
    "            print('Found solution after', iters+1, 'iterations.')\n",
    "            soln = x_0\n",
    "            break\n",
    "            \n",
    "    return x_0"
   ]
  },
  {
   "cell_type": "code",
   "execution_count": 13,
   "id": "27b170f8-b84c-4fe6-aaed-c09932d8c483",
   "metadata": {
    "tags": []
   },
   "outputs": [
    {
     "name": "stdout",
     "output_type": "stream",
     "text": [
      "Found solution after 6 iterations.\n"
     ]
    },
    {
     "data": {
      "text/plain": [
       "(-2.4999999999237508-1.3228756554467636j)"
      ]
     },
     "execution_count": 13,
     "metadata": {},
     "output_type": "execute_result"
    }
   ],
   "source": [
    "list_coeff_17a = [1, 5, -9, -85, -136]\n",
    "LaguerresMethod_(list_coeff=list_coeff_17a, x_0=2, TOL = 1e-6, MAX_ITER = 500)"
   ]
  },
  {
   "cell_type": "code",
   "execution_count": 14,
   "id": "6c90ff8a-531d-4807-8609-e0bfd3621329",
   "metadata": {
    "tags": []
   },
   "outputs": [
    {
     "name": "stdout",
     "output_type": "stream",
     "text": [
      "Found solution after 3 iterations.\n"
     ]
    },
    {
     "data": {
      "text/plain": [
       "(2.2600855279902574+0j)"
      ]
     },
     "execution_count": 14,
     "metadata": {},
     "output_type": "execute_result"
    }
   ],
   "source": [
    "list_coeff_17b = [1, 11, -21, -10, -21, -5]\n",
    "LaguerresMethod_(list_coeff = list_coeff_17b, x_0 = 2, TOL = 1e-6, MAX_ITER = 500)"
   ]
  },
  {
   "cell_type": "code",
   "execution_count": null,
   "id": "2ea73a71",
   "metadata": {},
   "outputs": [],
   "source": []
  }
 ],
 "metadata": {
  "kernelspec": {
   "display_name": "Python 3 (ipykernel)",
   "language": "python",
   "name": "python3"
  },
  "language_info": {
   "codemirror_mode": {
    "name": "ipython",
    "version": 3
   },
   "file_extension": ".py",
   "mimetype": "text/x-python",
   "name": "python",
   "nbconvert_exporter": "python",
   "pygments_lexer": "ipython3",
   "version": "3.9.7"
  }
 },
 "nbformat": 4,
 "nbformat_minor": 5
}
