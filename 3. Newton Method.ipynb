{
 "cells": [
  {
   "cell_type": "code",
   "execution_count": 2,
   "id": "537b7bac",
   "metadata": {},
   "outputs": [],
   "source": [
    "import numpy as np"
   ]
  },
  {
   "cell_type": "markdown",
   "id": "4a23ac7c-1f5a-442f-b1b7-415f4df8ef7a",
   "metadata": {
    "tags": []
   },
   "source": [
    "# Newton Method"
   ]
  },
  {
   "cell_type": "code",
   "execution_count": 3,
   "id": "43c7105c-ad65-4c38-837d-d4e194af8495",
   "metadata": {
    "tags": []
   },
   "outputs": [],
   "source": [
    "def NewtonMethod(p_0, funct, Dfunct, TOL = 1e-6, MAX_ITER = 500):\n",
    "    \"\"\"Solve for a function's root f(x) = 0 via Newton's Method.\n",
    "\n",
    "    Args\n",
    "    ----\n",
    "        p_0: Initial value of approximation\n",
    "        funct (function): Function of interest, f(x)\n",
    "        Dfunct : Derivative of f(x)\n",
    "        TOL: Solution tolerance\n",
    "        MAX_ITER: Maximum number of iterations\n",
    "    \n",
    "    Return\n",
    "    -------\n",
    "        p: Root of f(x)=0 given p_0\n",
    "    \"\"\"\n",
    "    ## STEP 1:\n",
    "    p_prev = 0.0    # Keep track of old p-values\n",
    "    soln = 0.0      # Store final solution in this variable\n",
    "\n",
    "    ## STEP 2:\n",
    "    for iters in range(MAX_ITER):   # Iterate until max. iterations are reached.\n",
    "        ## STEP 3:\n",
    "        p = p_0 - funct(p_0)/Dfunct(p_0)             \n",
    "\n",
    "        ## STEP 4:\n",
    "        # Check if tolerance is satisfied\n",
    "        if np.abs(p - p_0) < TOL:\n",
    "            # Break if tolerance is met, return answer!\n",
    "            print('Found solution after', iters+1, 'iterations.')\n",
    "            soln = p\n",
    "            break\n",
    "        \n",
    "        ## STEP 5\n",
    "        p_0 = p\n",
    "\n",
    "        p_prev = p      # Replace old with new\n",
    "    \n",
    "    return p"
   ]
  },
  {
   "cell_type": "markdown",
   "id": "61d695eb",
   "metadata": {},
   "source": []
  },
  {
   "cell_type": "code",
   "execution_count": null,
   "id": "e0ee00e9-e382-43c8-8845-6b8055b8cc4d",
   "metadata": {},
   "outputs": [],
   "source": [
    "function_6 = lambda x: ( 3*x**2 + 3 )**(1/4)\n",
    "FixedPointMethod(p_0=1, funct=function_6, TOL = 1e-2, MAX_ITER = 200)"
   ]
  }
 ],
 "metadata": {
  "kernelspec": {
   "display_name": "Python 3 (ipykernel)",
   "language": "python",
   "name": "python3"
  },
  "language_info": {
   "codemirror_mode": {
    "name": "ipython",
    "version": 3
   },
   "file_extension": ".py",
   "mimetype": "text/x-python",
   "name": "python",
   "nbconvert_exporter": "python",
   "pygments_lexer": "ipython3",
   "version": "3.9.7"
  }
 },
 "nbformat": 4,
 "nbformat_minor": 5
}
